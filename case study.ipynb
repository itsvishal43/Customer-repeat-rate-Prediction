{
 "cells": [
  {
   "cell_type": "code",
   "execution_count": 475,
   "metadata": {},
   "outputs": [],
   "source": [
    "import pandas as pd\n",
    "import seaborn as sns\n",
    "import matplotlib.pyplot as plt\n",
    "import numpy as np\n",
    "import datetime\n"
   ]
  },
  {
   "cell_type": "code",
   "execution_count": 476,
   "metadata": {},
   "outputs": [
    {
     "name": "stdout",
     "output_type": "stream",
     "text": [
      "(30940, 6)\n",
      "Index(['Transaction_ID', 'Profile ID', 'Date_of_Booking',\n",
      "       'Date_of_Service_Requested', 'Source',\n",
      "       'Slot of Booking (Hour of the Day)'],\n",
      "      dtype='object')\n"
     ]
    }
   ],
   "source": [
    "df= pd.read_excel(\"data.xlsx\")\n",
    "print (df.shape)\n",
    "print (df.columns)"
   ]
  },
  {
   "cell_type": "code",
   "execution_count": 477,
   "metadata": {},
   "outputs": [
    {
     "data": {
      "text/plain": [
       "Transaction_ID                               object\n",
       "Profile ID                                    int64\n",
       "Date_of_Booking                      datetime64[ns]\n",
       "Date_of_Service_Requested            datetime64[ns]\n",
       "Source                                       object\n",
       "Slot of Booking (Hour of the Day)             int64\n",
       "dtype: object"
      ]
     },
     "execution_count": 477,
     "metadata": {},
     "output_type": "execute_result"
    }
   ],
   "source": [
    "df.dtypes"
   ]
  },
  {
   "cell_type": "code",
   "execution_count": 478,
   "metadata": {},
   "outputs": [
    {
     "data": {
      "text/plain": [
       "Transaction_ID                       0\n",
       "Profile ID                           0\n",
       "Date_of_Booking                      0\n",
       "Date_of_Service_Requested            0\n",
       "Source                               0\n",
       "Slot of Booking (Hour of the Day)    0\n",
       "dtype: int64"
      ]
     },
     "execution_count": 478,
     "metadata": {},
     "output_type": "execute_result"
    }
   ],
   "source": [
    "df.isnull().sum()"
   ]
  },
  {
   "cell_type": "code",
   "execution_count": 479,
   "metadata": {},
   "outputs": [
    {
     "data": {
      "text/html": [
       "<div>\n",
       "<style scoped>\n",
       "    .dataframe tbody tr th:only-of-type {\n",
       "        vertical-align: middle;\n",
       "    }\n",
       "\n",
       "    .dataframe tbody tr th {\n",
       "        vertical-align: top;\n",
       "    }\n",
       "\n",
       "    .dataframe thead th {\n",
       "        text-align: right;\n",
       "    }\n",
       "</style>\n",
       "<table border=\"1\" class=\"dataframe\">\n",
       "  <thead>\n",
       "    <tr style=\"text-align: right;\">\n",
       "      <th></th>\n",
       "      <th>Transaction_ID</th>\n",
       "      <th>Profile ID</th>\n",
       "      <th>Date_of_Booking</th>\n",
       "      <th>Date_of_Service_Requested</th>\n",
       "      <th>Source</th>\n",
       "      <th>Slot of Booking (Hour of the Day)</th>\n",
       "    </tr>\n",
       "  </thead>\n",
       "  <tbody>\n",
       "    <tr>\n",
       "      <td>0</td>\n",
       "      <td>BBCHH</td>\n",
       "      <td>1</td>\n",
       "      <td>2018-05-20</td>\n",
       "      <td>2018-05-21</td>\n",
       "      <td>D</td>\n",
       "      <td>14</td>\n",
       "    </tr>\n",
       "    <tr>\n",
       "      <td>1</td>\n",
       "      <td>CHWFD</td>\n",
       "      <td>1</td>\n",
       "      <td>2018-09-23</td>\n",
       "      <td>2018-09-23</td>\n",
       "      <td>C</td>\n",
       "      <td>8</td>\n",
       "    </tr>\n",
       "    <tr>\n",
       "      <td>2</td>\n",
       "      <td>DYDMF</td>\n",
       "      <td>2</td>\n",
       "      <td>2018-11-10</td>\n",
       "      <td>2018-11-13</td>\n",
       "      <td>C</td>\n",
       "      <td>11</td>\n",
       "    </tr>\n",
       "    <tr>\n",
       "      <td>3</td>\n",
       "      <td>EZYSA</td>\n",
       "      <td>3</td>\n",
       "      <td>2018-04-12</td>\n",
       "      <td>2018-04-16</td>\n",
       "      <td>B</td>\n",
       "      <td>8</td>\n",
       "    </tr>\n",
       "    <tr>\n",
       "      <td>4</td>\n",
       "      <td>HWAKX</td>\n",
       "      <td>3</td>\n",
       "      <td>2018-08-05</td>\n",
       "      <td>2018-08-06</td>\n",
       "      <td>B</td>\n",
       "      <td>11</td>\n",
       "    </tr>\n",
       "  </tbody>\n",
       "</table>\n",
       "</div>"
      ],
      "text/plain": [
       "  Transaction_ID  Profile ID Date_of_Booking Date_of_Service_Requested Source  \\\n",
       "0          BBCHH           1      2018-05-20                2018-05-21      D   \n",
       "1          CHWFD           1      2018-09-23                2018-09-23      C   \n",
       "2          DYDMF           2      2018-11-10                2018-11-13      C   \n",
       "3          EZYSA           3      2018-04-12                2018-04-16      B   \n",
       "4          HWAKX           3      2018-08-05                2018-08-06      B   \n",
       "\n",
       "   Slot of Booking (Hour of the Day)  \n",
       "0                                 14  \n",
       "1                                  8  \n",
       "2                                 11  \n",
       "3                                  8  \n",
       "4                                 11  "
      ]
     },
     "execution_count": 479,
     "metadata": {},
     "output_type": "execute_result"
    }
   ],
   "source": [
    "df.head()"
   ]
  },
  {
   "cell_type": "code",
   "execution_count": 480,
   "metadata": {},
   "outputs": [],
   "source": [
    "df.rename(columns= {\"Profile ID\" : \"Profile_ID\"}, inplace= True)"
   ]
  },
  {
   "cell_type": "code",
   "execution_count": 481,
   "metadata": {},
   "outputs": [
    {
     "data": {
      "text/html": [
       "<div>\n",
       "<style scoped>\n",
       "    .dataframe tbody tr th:only-of-type {\n",
       "        vertical-align: middle;\n",
       "    }\n",
       "\n",
       "    .dataframe tbody tr th {\n",
       "        vertical-align: top;\n",
       "    }\n",
       "\n",
       "    .dataframe thead th {\n",
       "        text-align: right;\n",
       "    }\n",
       "</style>\n",
       "<table border=\"1\" class=\"dataframe\">\n",
       "  <thead>\n",
       "    <tr style=\"text-align: right;\">\n",
       "      <th></th>\n",
       "      <th>Profile_ID</th>\n",
       "      <th>Slot of Booking (Hour of the Day)</th>\n",
       "      <th>sequence</th>\n",
       "    </tr>\n",
       "  </thead>\n",
       "  <tbody>\n",
       "    <tr>\n",
       "      <td>count</td>\n",
       "      <td>30940.000000</td>\n",
       "      <td>30940.000000</td>\n",
       "      <td>30940.000000</td>\n",
       "    </tr>\n",
       "    <tr>\n",
       "      <td>mean</td>\n",
       "      <td>8329.657854</td>\n",
       "      <td>13.060440</td>\n",
       "      <td>2.145734</td>\n",
       "    </tr>\n",
       "    <tr>\n",
       "      <td>std</td>\n",
       "      <td>4807.274974</td>\n",
       "      <td>3.135142</td>\n",
       "      <td>4.571598</td>\n",
       "    </tr>\n",
       "    <tr>\n",
       "      <td>min</td>\n",
       "      <td>1.000000</td>\n",
       "      <td>6.000000</td>\n",
       "      <td>0.000000</td>\n",
       "    </tr>\n",
       "    <tr>\n",
       "      <td>25%</td>\n",
       "      <td>4142.750000</td>\n",
       "      <td>12.000000</td>\n",
       "      <td>0.000000</td>\n",
       "    </tr>\n",
       "    <tr>\n",
       "      <td>50%</td>\n",
       "      <td>8375.000000</td>\n",
       "      <td>14.000000</td>\n",
       "      <td>0.000000</td>\n",
       "    </tr>\n",
       "    <tr>\n",
       "      <td>75%</td>\n",
       "      <td>12432.000000</td>\n",
       "      <td>14.000000</td>\n",
       "      <td>2.000000</td>\n",
       "    </tr>\n",
       "    <tr>\n",
       "      <td>max</td>\n",
       "      <td>16711.000000</td>\n",
       "      <td>19.000000</td>\n",
       "      <td>55.000000</td>\n",
       "    </tr>\n",
       "  </tbody>\n",
       "</table>\n",
       "</div>"
      ],
      "text/plain": [
       "         Profile_ID  Slot of Booking (Hour of the Day)      sequence\n",
       "count  30940.000000                       30940.000000  30940.000000\n",
       "mean    8329.657854                          13.060440      2.145734\n",
       "std     4807.274974                           3.135142      4.571598\n",
       "min        1.000000                           6.000000      0.000000\n",
       "25%     4142.750000                          12.000000      0.000000\n",
       "50%     8375.000000                          14.000000      0.000000\n",
       "75%    12432.000000                          14.000000      2.000000\n",
       "max    16711.000000                          19.000000     55.000000"
      ]
     },
     "execution_count": 481,
     "metadata": {},
     "output_type": "execute_result"
    }
   ],
   "source": [
    "df['sequence']= df.groupby('Profile_ID').cumcount()\n",
    "df.describe()"
   ]
  },
  {
   "cell_type": "markdown",
   "metadata": {},
   "source": [
    "#  Question 1"
   ]
  },
  {
   "cell_type": "markdown",
   "metadata": {},
   "source": [
    "Calculated month of booking to filter my data with ease"
   ]
  },
  {
   "cell_type": "code",
   "execution_count": 483,
   "metadata": {},
   "outputs": [
    {
     "name": "stdout",
     "output_type": "stream",
     "text": [
      "      Transaction_ID  Profile_ID Date_of_Booking Date_of_Service_Requested  \\\n",
      "0              BBCHH           1      2018-05-20                2018-05-21   \n",
      "1              CHWFD           1      2018-09-23                2018-09-23   \n",
      "2              DYDMF           2      2018-11-10                2018-11-13   \n",
      "3              EZYSA           3      2018-04-12                2018-04-16   \n",
      "4              HWAKX           3      2018-08-05                2018-08-06   \n",
      "...              ...         ...             ...                       ...   \n",
      "30935          FOXPU       16707      2018-09-29                2018-10-02   \n",
      "30936          ZNKAO       16708      2018-03-12                2018-03-16   \n",
      "30937          INBOS       16709      2018-01-05                2018-01-10   \n",
      "30938          CUNOS       16710      2018-02-26                2018-03-03   \n",
      "30939          DUBEV       16711      2018-04-30                2018-05-03   \n",
      "\n",
      "      Source  Slot of Booking (Hour of the Day)  sequence  month_of_Booking  \n",
      "0          D                                 14         0                 5  \n",
      "1          C                                  8         1                 9  \n",
      "2          C                                 11         0                11  \n",
      "3          B                                  8         0                 4  \n",
      "4          B                                 11         1                 8  \n",
      "...      ...                                ...       ...               ...  \n",
      "30935      C                                 18         1                 9  \n",
      "30936      A                                 13         0                 3  \n",
      "30937      C                                 14         0                 1  \n",
      "30938      C                                 19         0                 2  \n",
      "30939      B                                 13         0                 4  \n",
      "\n",
      "[30940 rows x 8 columns]\n"
     ]
    }
   ],
   "source": [
    "df['month_of_Booking'] = df['Date_of_Booking'].dt.month\n",
    "print(df)"
   ]
  },
  {
   "cell_type": "code",
   "execution_count": 484,
   "metadata": {},
   "outputs": [
    {
     "name": "stdout",
     "output_type": "stream",
     "text": [
      "month_of_Booking\n",
      "1     2324\n",
      "2     2115\n",
      "3     2248\n",
      "4     2188\n",
      "5     2189\n",
      "6     2241\n",
      "7     2290\n",
      "8     2228\n",
      "9     2200\n",
      "10    2352\n",
      "11    2276\n",
      "12    2424\n",
      "Name: Profile_ID, dtype: int64\n"
     ]
    }
   ],
   "source": [
    "g = df.groupby('month_of_Booking').Profile_ID.nunique()\n",
    "print(g)"
   ]
  },
  {
   "cell_type": "code",
   "execution_count": 485,
   "metadata": {},
   "outputs": [
    {
     "data": {
      "image/png": "[encoded data removed]",
      "text/plain": [
       "<Figure size 1080x504 with 1 Axes>"
      ]
     },
     "metadata": {
      "needs_background": "light"
     },
     "output_type": "display_data"
    }
   ],
   "source": [
    "lst1= [g[i] for i in range(1, 13)]\n",
    "\n",
    "xaxis= [\"Jan\", \"Feb\", \"March\", \"April\", \"May\", \"June\", \"July\", \"Aug\", \"Sept\", \"Oct\", \"Nov\", \"Dec\"]\n",
    "yaxis= lst1\n",
    "\n",
    "plt.figure(figsize=(15,7))\n",
    "sns.barplot(x=xaxis, y= yaxis)\n",
    "plt.title(\"Number of new customers acquired per month\")\n",
    "plt.xlabel(\"Month of Booking\")\n",
    "plt.ylabel(\"Number of customers\")\n",
    "plt.show()"
   ]
  },
  {
   "cell_type": "markdown",
   "metadata": {},
   "source": [
    "# Question 2"
   ]
  },
  {
   "cell_type": "markdown",
   "metadata": {},
   "source": [
    "Calculating Days since start of Booking and first date of Customer's acquisition "
   ]
  },
  {
   "cell_type": "code",
   "execution_count": 486,
   "metadata": {},
   "outputs": [
    {
     "data": {
      "text/plain": [
       "Profile_ID\n",
       "1   2018-05-20\n",
       "2   2018-11-10\n",
       "3   2018-04-12\n",
       "4   2018-03-02\n",
       "5   2018-01-06\n",
       "Name: Cust_acquired_Date, dtype: datetime64[ns]"
      ]
     },
     "execution_count": 486,
     "metadata": {},
     "output_type": "execute_result"
    }
   ],
   "source": [
    "start_date = df.groupby('Profile_ID')['Date_of_Booking'].min()\n",
    "start_date = start_date.rename(\"Cust_acquired_Date\")\n",
    "start_date.head()"
   ]
  },
  {
   "cell_type": "code",
   "execution_count": 487,
   "metadata": {},
   "outputs": [
    {
     "data": {
      "text/html": [
       "<div>\n",
       "<style scoped>\n",
       "    .dataframe tbody tr th:only-of-type {\n",
       "        vertical-align: middle;\n",
       "    }\n",
       "\n",
       "    .dataframe tbody tr th {\n",
       "        vertical-align: top;\n",
       "    }\n",
       "\n",
       "    .dataframe thead th {\n",
       "        text-align: right;\n",
       "    }\n",
       "</style>\n",
       "<table border=\"1\" class=\"dataframe\">\n",
       "  <thead>\n",
       "    <tr style=\"text-align: right;\">\n",
       "      <th></th>\n",
       "      <th>Transaction_ID</th>\n",
       "      <th>Profile_ID</th>\n",
       "      <th>Date_of_Booking</th>\n",
       "      <th>Date_of_Service_Requested</th>\n",
       "      <th>Source</th>\n",
       "      <th>Slot of Booking (Hour of the Day)</th>\n",
       "      <th>sequence</th>\n",
       "      <th>month_of_Booking</th>\n",
       "      <th>Cust_acquired_Date</th>\n",
       "    </tr>\n",
       "  </thead>\n",
       "  <tbody>\n",
       "    <tr>\n",
       "      <td>0</td>\n",
       "      <td>BBCHH</td>\n",
       "      <td>1</td>\n",
       "      <td>2018-05-20</td>\n",
       "      <td>2018-05-21</td>\n",
       "      <td>D</td>\n",
       "      <td>14</td>\n",
       "      <td>0</td>\n",
       "      <td>5</td>\n",
       "      <td>2018-05-20</td>\n",
       "    </tr>\n",
       "    <tr>\n",
       "      <td>1</td>\n",
       "      <td>CHWFD</td>\n",
       "      <td>1</td>\n",
       "      <td>2018-09-23</td>\n",
       "      <td>2018-09-23</td>\n",
       "      <td>C</td>\n",
       "      <td>8</td>\n",
       "      <td>1</td>\n",
       "      <td>9</td>\n",
       "      <td>2018-05-20</td>\n",
       "    </tr>\n",
       "    <tr>\n",
       "      <td>2</td>\n",
       "      <td>DYDMF</td>\n",
       "      <td>2</td>\n",
       "      <td>2018-11-10</td>\n",
       "      <td>2018-11-13</td>\n",
       "      <td>C</td>\n",
       "      <td>11</td>\n",
       "      <td>0</td>\n",
       "      <td>11</td>\n",
       "      <td>2018-11-10</td>\n",
       "    </tr>\n",
       "    <tr>\n",
       "      <td>3</td>\n",
       "      <td>EZYSA</td>\n",
       "      <td>3</td>\n",
       "      <td>2018-04-12</td>\n",
       "      <td>2018-04-16</td>\n",
       "      <td>B</td>\n",
       "      <td>8</td>\n",
       "      <td>0</td>\n",
       "      <td>4</td>\n",
       "      <td>2018-04-12</td>\n",
       "    </tr>\n",
       "    <tr>\n",
       "      <td>4</td>\n",
       "      <td>HWAKX</td>\n",
       "      <td>3</td>\n",
       "      <td>2018-08-05</td>\n",
       "      <td>2018-08-06</td>\n",
       "      <td>B</td>\n",
       "      <td>11</td>\n",
       "      <td>1</td>\n",
       "      <td>8</td>\n",
       "      <td>2018-04-12</td>\n",
       "    </tr>\n",
       "  </tbody>\n",
       "</table>\n",
       "</div>"
      ],
      "text/plain": [
       "  Transaction_ID  Profile_ID Date_of_Booking Date_of_Service_Requested Source  \\\n",
       "0          BBCHH           1      2018-05-20                2018-05-21      D   \n",
       "1          CHWFD           1      2018-09-23                2018-09-23      C   \n",
       "2          DYDMF           2      2018-11-10                2018-11-13      C   \n",
       "3          EZYSA           3      2018-04-12                2018-04-16      B   \n",
       "4          HWAKX           3      2018-08-05                2018-08-06      B   \n",
       "\n",
       "   Slot of Booking (Hour of the Day)  sequence  month_of_Booking  \\\n",
       "0                                 14         0                 5   \n",
       "1                                  8         1                 9   \n",
       "2                                 11         0                11   \n",
       "3                                  8         0                 4   \n",
       "4                                 11         1                 8   \n",
       "\n",
       "  Cust_acquired_Date  \n",
       "0         2018-05-20  \n",
       "1         2018-05-20  \n",
       "2         2018-11-10  \n",
       "3         2018-04-12  \n",
       "4         2018-04-12  "
      ]
     },
     "execution_count": 487,
     "metadata": {},
     "output_type": "execute_result"
    }
   ],
   "source": [
    "df = pd.merge(df, start_date, left_on='Profile_ID', right_index=True)\n",
    "df.head()\n"
   ]
  },
  {
   "cell_type": "code",
   "execution_count": 488,
   "metadata": {},
   "outputs": [
    {
     "name": "stdout",
     "output_type": "stream",
     "text": [
      "      Transaction_ID  Profile_ID Date_of_Booking Date_of_Service_Requested  \\\n",
      "0              BBCHH           1      2018-05-20                2018-05-21   \n",
      "1              CHWFD           1      2018-09-23                2018-09-23   \n",
      "2              DYDMF           2      2018-11-10                2018-11-13   \n",
      "3              EZYSA           3      2018-04-12                2018-04-16   \n",
      "4              HWAKX           3      2018-08-05                2018-08-06   \n",
      "...              ...         ...             ...                       ...   \n",
      "30935          FOXPU       16707      2018-09-29                2018-10-02   \n",
      "30936          ZNKAO       16708      2018-03-12                2018-03-16   \n",
      "30937          INBOS       16709      2018-01-05                2018-01-10   \n",
      "30938          CUNOS       16710      2018-02-26                2018-03-03   \n",
      "30939          DUBEV       16711      2018-04-30                2018-05-03   \n",
      "\n",
      "      Source  Slot of Booking (Hour of the Day)  sequence  month_of_Booking  \\\n",
      "0          D                                 14         0                 5   \n",
      "1          C                                  8         1                 9   \n",
      "2          C                                 11         0                11   \n",
      "3          B                                  8         0                 4   \n",
      "4          B                                 11         1                 8   \n",
      "...      ...                                ...       ...               ...   \n",
      "30935      C                                 18         1                 9   \n",
      "30936      A                                 13         0                 3   \n",
      "30937      C                                 14         0                 1   \n",
      "30938      C                                 19         0                 2   \n",
      "30939      B                                 13         0                 4   \n",
      "\n",
      "      Cust_acquired_Date  month_of_acquisition  \n",
      "0             2018-05-20                     5  \n",
      "1             2018-05-20                     5  \n",
      "2             2018-11-10                    11  \n",
      "3             2018-04-12                     4  \n",
      "4             2018-04-12                     4  \n",
      "...                  ...                   ...  \n",
      "30935         2018-03-09                     3  \n",
      "30936         2018-03-12                     3  \n",
      "30937         2018-01-05                     1  \n",
      "30938         2018-02-26                     2  \n",
      "30939         2018-04-30                     4  \n",
      "\n",
      "[30940 rows x 10 columns]\n"
     ]
    }
   ],
   "source": [
    "df['month_of_acquisition'] = df['Cust_acquired_Date'].dt.month\n",
    "print(df)"
   ]
  },
  {
   "cell_type": "code",
   "execution_count": 489,
   "metadata": {},
   "outputs": [
    {
     "name": "stdout",
     "output_type": "stream",
     "text": [
      "8          0\n",
      "25         0\n",
      "26       311\n",
      "35         0\n",
      "36       135\n",
      "        ... \n",
      "30911    331\n",
      "30912    332\n",
      "30913    345\n",
      "30914    356\n",
      "30932      0\n",
      "Length: 9371, dtype: int64\n"
     ]
    }
   ],
   "source": [
    "df1= df[df[\"month_of_acquisition\"] == 12]\n",
    "\n",
    "lst1 = (df1[\"Date_of_Booking\"] - df1[\"Cust_acquired_Date\"]).dt.days\n",
    "print(lst1)\n"
   ]
  },
  {
   "cell_type": "code",
   "execution_count": 490,
   "metadata": {},
   "outputs": [
    {
     "name": "stdout",
     "output_type": "stream",
     "text": [
      "Total new customers acquired in December: 2424\n"
     ]
    },
    {
     "name": "stderr",
     "output_type": "stream",
     "text": [
      "C:\\Users\\VISHAL\\Anaconda3\\lib\\site-packages\\ipykernel_launcher.py:1: SettingWithCopyWarning: \n",
      "A value is trying to be set on a copy of a slice from a DataFrame.\n",
      "Try using .loc[row_indexer,col_indexer] = value instead\n",
      "\n",
      "See the caveats in the documentation: http://pandas.pydata.org/pandas-docs/stable/user_guide/indexing.html#returning-a-view-versus-a-copy\n",
      "  \"\"\"Entry point for launching an IPython kernel.\n"
     ]
    }
   ],
   "source": [
    "df1['days_since_start'] = lst1\n",
    "df1.head()\n",
    "f1 = df1.Profile_ID.nunique()\n",
    "print(\"Total new customers acquired in December:\",f1)"
   ]
  },
  {
   "cell_type": "markdown",
   "metadata": {},
   "source": [
    "# Filtered data to calculate 30 days repeate rate"
   ]
  },
  {
   "cell_type": "code",
   "execution_count": 491,
   "metadata": {},
   "outputs": [
    {
     "name": "stdout",
     "output_type": "stream",
     "text": [
      "595\n"
     ]
    }
   ],
   "source": [
    "df2= df1[(df1[\"days_since_start\"] <= 30) & (df1[\"sequence\"] > 0)]\n",
    "print(len(df2))"
   ]
  },
  {
   "cell_type": "code",
   "execution_count": 492,
   "metadata": {},
   "outputs": [
    {
     "name": "stdout",
     "output_type": "stream",
     "text": [
      "Total customers with repeat orders in 30 days acquired in December: 408\n"
     ]
    }
   ],
   "source": [
    "f2 = df2.Profile_ID.nunique()\n",
    "print(\"Total customers with repeat orders in 30 days acquired in December:\",f2)"
   ]
  },
  {
   "cell_type": "code",
   "execution_count": 493,
   "metadata": {},
   "outputs": [
    {
     "name": "stdout",
     "output_type": "stream",
     "text": [
      "30 day repeat rate of users acquired in December: 16.831683168316832\n"
     ]
    }
   ],
   "source": [
    "print(\"30 day repeat rate of users acquired in December:\", f2/f1 * 100)"
   ]
  },
  {
   "cell_type": "markdown",
   "metadata": {},
   "source": [
    "# Question 3"
   ]
  },
  {
   "cell_type": "markdown",
   "metadata": {},
   "source": [
    "Calculating days since start for month of January, February and Mach 2018"
   ]
  },
  {
   "cell_type": "code",
   "execution_count": 494,
   "metadata": {},
   "outputs": [
    {
     "name": "stdout",
     "output_type": "stream",
     "text": [
      "5          0\n",
      "6          0\n",
      "11         0\n",
      "14         0\n",
      "15         0\n",
      "        ... \n",
      "30934      0\n",
      "30935    204\n",
      "30936      0\n",
      "30937      0\n",
      "30938      0\n",
      "Length: 10144, dtype: int64\n"
     ]
    }
   ],
   "source": [
    "df3= df[(df[\"month_of_acquisition\"] == 1) | (df[\"month_of_acquisition\"] ==2) | (df[\"month_of_acquisition\"] ==3)]\n",
    "lst2 = (df3[\"Date_of_Booking\"] - df3[\"Cust_acquired_Date\"]).dt.days\n",
    "print(lst2)"
   ]
  },
  {
   "cell_type": "code",
   "execution_count": 495,
   "metadata": {},
   "outputs": [
    {
     "name": "stdout",
     "output_type": "stream",
     "text": [
      "Total new customers acquired in Jan, Feb and March: 4931\n"
     ]
    },
    {
     "name": "stderr",
     "output_type": "stream",
     "text": [
      "C:\\Users\\VISHAL\\Anaconda3\\lib\\site-packages\\ipykernel_launcher.py:1: SettingWithCopyWarning: \n",
      "A value is trying to be set on a copy of a slice from a DataFrame.\n",
      "Try using .loc[row_indexer,col_indexer] = value instead\n",
      "\n",
      "See the caveats in the documentation: http://pandas.pydata.org/pandas-docs/stable/user_guide/indexing.html#returning-a-view-versus-a-copy\n",
      "  \"\"\"Entry point for launching an IPython kernel.\n"
     ]
    }
   ],
   "source": [
    "df3['days_since_start'] = lst2\n",
    "df3.head()\n",
    "g1 = df3.Profile_ID.nunique()\n",
    "print(\"Total new customers acquired in Jan, Feb and March:\",g1)"
   ]
  },
  {
   "cell_type": "markdown",
   "metadata": {},
   "source": [
    "# Filtered data to calculate 90 days repeate rate"
   ]
  },
  {
   "cell_type": "code",
   "execution_count": 496,
   "metadata": {},
   "outputs": [
    {
     "name": "stdout",
     "output_type": "stream",
     "text": [
      "1583\n"
     ]
    }
   ],
   "source": [
    "df4= df3[(df3[\"days_since_start\"] <= 90) & (df3[\"sequence\"] > 0)]\n",
    "print(len(df4))"
   ]
  },
  {
   "cell_type": "code",
   "execution_count": 497,
   "metadata": {},
   "outputs": [
    {
     "name": "stdout",
     "output_type": "stream",
     "text": [
      "Total customers with repeat orders in 90 days acquired in Jan, Feb and March: 1023\n"
     ]
    }
   ],
   "source": [
    "g2 = df4.Profile_ID.nunique()\n",
    "print(\"Total customers with repeat orders in 90 days acquired in Jan, Feb and March:\",g2)"
   ]
  },
  {
   "cell_type": "code",
   "execution_count": 498,
   "metadata": {},
   "outputs": [
    {
     "name": "stdout",
     "output_type": "stream",
     "text": [
      "90 days repeat rate of users acquired in December: 20.74629892516731\n"
     ]
    }
   ],
   "source": [
    "print(\"90 days repeat rate of users acquired in December:\", g2/g1 * 100)"
   ]
  },
  {
   "cell_type": "markdown",
   "metadata": {},
   "source": [
    "# Question 4"
   ]
  },
  {
   "cell_type": "markdown",
   "metadata": {},
   "source": [
    "Preparing data of 90 days repeat for whole dataset"
   ]
  },
  {
   "cell_type": "code",
   "execution_count": 499,
   "metadata": {},
   "outputs": [
    {
     "name": "stdout",
     "output_type": "stream",
     "text": [
      "<class 'pandas.core.frame.DataFrame'>\n",
      "Int64Index: 30940 entries, 0 to 30939\n",
      "Data columns (total 11 columns):\n",
      "Transaction_ID                       30940 non-null object\n",
      "Profile_ID                           30940 non-null int64\n",
      "Date_of_Booking                      30940 non-null datetime64[ns]\n",
      "Date_of_Service_Requested            30940 non-null datetime64[ns]\n",
      "Source                               30940 non-null object\n",
      "Slot of Booking (Hour of the Day)    30940 non-null int64\n",
      "sequence                             30940 non-null int64\n",
      "month_of_Booking                     30940 non-null int64\n",
      "Cust_acquired_Date                   30940 non-null datetime64[ns]\n",
      "month_of_acquisition                 30940 non-null int64\n",
      "days_since_start                     30940 non-null int64\n",
      "dtypes: datetime64[ns](3), int64(6), object(2)\n",
      "memory usage: 2.8+ MB\n"
     ]
    }
   ],
   "source": [
    "lst = (df[\"Date_of_Booking\"] - df[\"Cust_acquired_Date\"]).dt.days\n",
    "\n",
    "df['days_since_start'] = lst\n",
    "df.info()"
   ]
  },
  {
   "cell_type": "code",
   "execution_count": 500,
   "metadata": {},
   "outputs": [
    {
     "name": "stdout",
     "output_type": "stream",
     "text": [
      "30940\n"
     ]
    }
   ],
   "source": [
    "df.sort_values(by=['Date_of_Booking'])\n",
    "print(len(df))"
   ]
  },
  {
   "cell_type": "code",
   "execution_count": 501,
   "metadata": {},
   "outputs": [
    {
     "name": "stdout",
     "output_type": "stream",
     "text": [
      "4438\n",
      "      Transaction_ID  Profile_ID Date_of_Booking Date_of_Service_Requested  \\\n",
      "10             LRPOS           8      2018-11-30                2018-11-30   \n",
      "17             PRFVG          14      2018-06-07                2018-06-07   \n",
      "18             SFYTJ          14      2018-06-21                2018-06-23   \n",
      "19             SBKYD          14      2018-06-24                2018-06-29   \n",
      "20             CJIHM          14      2018-06-29                2018-07-01   \n",
      "...              ...         ...             ...                       ...   \n",
      "30877          JUVMX       16693      2018-01-24                2018-01-28   \n",
      "30878          KYXOV       16693      2018-01-27                2018-02-01   \n",
      "30879          MSNQH       16693      2018-02-12                2018-02-16   \n",
      "30923          JMXSR       16699      2018-05-12                2018-05-17   \n",
      "30929          YKKQV       16702      2018-07-24                2018-07-24   \n",
      "\n",
      "      Source  Slot of Booking (Hour of the Day)  sequence  month_of_Booking  \\\n",
      "10         C                                 14         1                11   \n",
      "17         D                                  6         1                 6   \n",
      "18         C                                 18         2                 6   \n",
      "19         C                                  8         3                 6   \n",
      "20         C                                  8         4                 6   \n",
      "...      ...                                ...       ...               ...   \n",
      "30877      C                                 14         8                 1   \n",
      "30878      A                                 14         9                 1   \n",
      "30879      A                                 14        10                 2   \n",
      "30923      C                                 14         1                 5   \n",
      "30929      D                                 13         1                 7   \n",
      "\n",
      "      Cust_acquired_Date  month_of_acquisition  days_since_start  \\\n",
      "10            2018-11-29                    11                 1   \n",
      "17            2018-04-30                     4                38   \n",
      "18            2018-04-30                     4                52   \n",
      "19            2018-04-30                     4                55   \n",
      "20            2018-04-30                     4                60   \n",
      "...                  ...                   ...               ...   \n",
      "30877         2017-12-05                    12                50   \n",
      "30878         2017-12-05                    12                53   \n",
      "30879         2017-12-05                    12                69   \n",
      "30923         2018-03-18                     3                55   \n",
      "30929         2018-04-25                     4                90   \n",
      "\n",
      "       check_90_repeat  \n",
      "10                   1  \n",
      "17                   1  \n",
      "18                   1  \n",
      "19                   1  \n",
      "20                   1  \n",
      "...                ...  \n",
      "30877                1  \n",
      "30878                1  \n",
      "30879                1  \n",
      "30923                1  \n",
      "30929                1  \n",
      "\n",
      "[4438 rows x 12 columns]\n"
     ]
    }
   ],
   "source": [
    "df7= df[(df[\"days_since_start\"] <= 90)]\n",
    "df7= df7[df7['sequence'] > 0]\n",
    "print(len(df7))\n",
    "df7 = df7.assign(check_90_repeat= 1)\n",
    "print(df7)"
   ]
  },
  {
   "cell_type": "code",
   "execution_count": 502,
   "metadata": {},
   "outputs": [
    {
     "data": {
      "text/html": [
       "<div>\n",
       "<style scoped>\n",
       "    .dataframe tbody tr th:only-of-type {\n",
       "        vertical-align: middle;\n",
       "    }\n",
       "\n",
       "    .dataframe tbody tr th {\n",
       "        vertical-align: top;\n",
       "    }\n",
       "\n",
       "    .dataframe thead th {\n",
       "        text-align: right;\n",
       "    }\n",
       "</style>\n",
       "<table border=\"1\" class=\"dataframe\">\n",
       "  <thead>\n",
       "    <tr style=\"text-align: right;\">\n",
       "      <th></th>\n",
       "      <th>Profile_ID</th>\n",
       "      <th>check_90_repeat</th>\n",
       "    </tr>\n",
       "  </thead>\n",
       "  <tbody>\n",
       "    <tr>\n",
       "      <td>10</td>\n",
       "      <td>8</td>\n",
       "      <td>1</td>\n",
       "    </tr>\n",
       "    <tr>\n",
       "      <td>17</td>\n",
       "      <td>14</td>\n",
       "      <td>1</td>\n",
       "    </tr>\n",
       "    <tr>\n",
       "      <td>18</td>\n",
       "      <td>14</td>\n",
       "      <td>1</td>\n",
       "    </tr>\n",
       "    <tr>\n",
       "      <td>19</td>\n",
       "      <td>14</td>\n",
       "      <td>1</td>\n",
       "    </tr>\n",
       "    <tr>\n",
       "      <td>20</td>\n",
       "      <td>14</td>\n",
       "      <td>1</td>\n",
       "    </tr>\n",
       "    <tr>\n",
       "      <td>31</td>\n",
       "      <td>22</td>\n",
       "      <td>1</td>\n",
       "    </tr>\n",
       "    <tr>\n",
       "      <td>54</td>\n",
       "      <td>36</td>\n",
       "      <td>1</td>\n",
       "    </tr>\n",
       "    <tr>\n",
       "      <td>66</td>\n",
       "      <td>43</td>\n",
       "      <td>1</td>\n",
       "    </tr>\n",
       "    <tr>\n",
       "      <td>71</td>\n",
       "      <td>47</td>\n",
       "      <td>1</td>\n",
       "    </tr>\n",
       "    <tr>\n",
       "      <td>72</td>\n",
       "      <td>47</td>\n",
       "      <td>1</td>\n",
       "    </tr>\n",
       "  </tbody>\n",
       "</table>\n",
       "</div>"
      ],
      "text/plain": [
       "    Profile_ID  check_90_repeat\n",
       "10           8                1\n",
       "17          14                1\n",
       "18          14                1\n",
       "19          14                1\n",
       "20          14                1\n",
       "31          22                1\n",
       "54          36                1\n",
       "66          43                1\n",
       "71          47                1\n",
       "72          47                1"
      ]
     },
     "execution_count": 502,
     "metadata": {},
     "output_type": "execute_result"
    }
   ],
   "source": [
    "df7.drop([\"Transaction_ID\", \"Date_of_Booking\", \"Date_of_Service_Requested\", \"Source\", \"Slot of Booking (Hour of the Day)\", \"month_of_Booking\", \"Cust_acquired_Date\", \"month_of_acquisition\", \"days_since_start\", \"sequence\"], axis=1, inplace=True)\n",
    "df7.head(10)"
   ]
  },
  {
   "cell_type": "code",
   "execution_count": 503,
   "metadata": {},
   "outputs": [
    {
     "data": {
      "text/html": [
       "<div>\n",
       "<style scoped>\n",
       "    .dataframe tbody tr th:only-of-type {\n",
       "        vertical-align: middle;\n",
       "    }\n",
       "\n",
       "    .dataframe tbody tr th {\n",
       "        vertical-align: top;\n",
       "    }\n",
       "\n",
       "    .dataframe thead th {\n",
       "        text-align: right;\n",
       "    }\n",
       "</style>\n",
       "<table border=\"1\" class=\"dataframe\">\n",
       "  <thead>\n",
       "    <tr style=\"text-align: right;\">\n",
       "      <th></th>\n",
       "      <th>Profile_ID</th>\n",
       "      <th>check_90_repeat</th>\n",
       "    </tr>\n",
       "  </thead>\n",
       "  <tbody>\n",
       "    <tr>\n",
       "      <td>10</td>\n",
       "      <td>8</td>\n",
       "      <td>1</td>\n",
       "    </tr>\n",
       "    <tr>\n",
       "      <td>17</td>\n",
       "      <td>14</td>\n",
       "      <td>1</td>\n",
       "    </tr>\n",
       "    <tr>\n",
       "      <td>31</td>\n",
       "      <td>22</td>\n",
       "      <td>1</td>\n",
       "    </tr>\n",
       "    <tr>\n",
       "      <td>54</td>\n",
       "      <td>36</td>\n",
       "      <td>1</td>\n",
       "    </tr>\n",
       "    <tr>\n",
       "      <td>66</td>\n",
       "      <td>43</td>\n",
       "      <td>1</td>\n",
       "    </tr>\n",
       "  </tbody>\n",
       "</table>\n",
       "</div>"
      ],
      "text/plain": [
       "    Profile_ID  check_90_repeat\n",
       "10           8                1\n",
       "17          14                1\n",
       "31          22                1\n",
       "54          36                1\n",
       "66          43                1"
      ]
     },
     "execution_count": 503,
     "metadata": {},
     "output_type": "execute_result"
    }
   ],
   "source": [
    "df7.drop_duplicates(inplace=True)\n",
    "df7.head()\n"
   ]
  },
  {
   "cell_type": "code",
   "execution_count": 504,
   "metadata": {},
   "outputs": [
    {
     "data": {
      "text/html": [
       "<div>\n",
       "<style scoped>\n",
       "    .dataframe tbody tr th:only-of-type {\n",
       "        vertical-align: middle;\n",
       "    }\n",
       "\n",
       "    .dataframe tbody tr th {\n",
       "        vertical-align: top;\n",
       "    }\n",
       "\n",
       "    .dataframe thead th {\n",
       "        text-align: right;\n",
       "    }\n",
       "</style>\n",
       "<table border=\"1\" class=\"dataframe\">\n",
       "  <thead>\n",
       "    <tr style=\"text-align: right;\">\n",
       "      <th></th>\n",
       "      <th>Transaction_ID</th>\n",
       "      <th>Profile_ID</th>\n",
       "      <th>Date_of_Booking</th>\n",
       "      <th>Date_of_Service_Requested</th>\n",
       "      <th>Source</th>\n",
       "      <th>Slot of Booking (Hour of the Day)</th>\n",
       "      <th>sequence</th>\n",
       "      <th>month_of_Booking</th>\n",
       "      <th>Cust_acquired_Date</th>\n",
       "      <th>month_of_acquisition</th>\n",
       "      <th>days_since_start</th>\n",
       "      <th>check_90_repeat</th>\n",
       "    </tr>\n",
       "  </thead>\n",
       "  <tbody>\n",
       "    <tr>\n",
       "      <td>0</td>\n",
       "      <td>BBCHH</td>\n",
       "      <td>1</td>\n",
       "      <td>2018-05-20</td>\n",
       "      <td>2018-05-21</td>\n",
       "      <td>D</td>\n",
       "      <td>14</td>\n",
       "      <td>0</td>\n",
       "      <td>5</td>\n",
       "      <td>2018-05-20</td>\n",
       "      <td>5</td>\n",
       "      <td>0</td>\n",
       "      <td>NaN</td>\n",
       "    </tr>\n",
       "    <tr>\n",
       "      <td>1</td>\n",
       "      <td>CHWFD</td>\n",
       "      <td>1</td>\n",
       "      <td>2018-09-23</td>\n",
       "      <td>2018-09-23</td>\n",
       "      <td>C</td>\n",
       "      <td>8</td>\n",
       "      <td>1</td>\n",
       "      <td>9</td>\n",
       "      <td>2018-05-20</td>\n",
       "      <td>5</td>\n",
       "      <td>126</td>\n",
       "      <td>NaN</td>\n",
       "    </tr>\n",
       "    <tr>\n",
       "      <td>2</td>\n",
       "      <td>DYDMF</td>\n",
       "      <td>2</td>\n",
       "      <td>2018-11-10</td>\n",
       "      <td>2018-11-13</td>\n",
       "      <td>C</td>\n",
       "      <td>11</td>\n",
       "      <td>0</td>\n",
       "      <td>11</td>\n",
       "      <td>2018-11-10</td>\n",
       "      <td>11</td>\n",
       "      <td>0</td>\n",
       "      <td>NaN</td>\n",
       "    </tr>\n",
       "    <tr>\n",
       "      <td>3</td>\n",
       "      <td>EZYSA</td>\n",
       "      <td>3</td>\n",
       "      <td>2018-04-12</td>\n",
       "      <td>2018-04-16</td>\n",
       "      <td>B</td>\n",
       "      <td>8</td>\n",
       "      <td>0</td>\n",
       "      <td>4</td>\n",
       "      <td>2018-04-12</td>\n",
       "      <td>4</td>\n",
       "      <td>0</td>\n",
       "      <td>NaN</td>\n",
       "    </tr>\n",
       "    <tr>\n",
       "      <td>4</td>\n",
       "      <td>HWAKX</td>\n",
       "      <td>3</td>\n",
       "      <td>2018-08-05</td>\n",
       "      <td>2018-08-06</td>\n",
       "      <td>B</td>\n",
       "      <td>11</td>\n",
       "      <td>1</td>\n",
       "      <td>8</td>\n",
       "      <td>2018-04-12</td>\n",
       "      <td>4</td>\n",
       "      <td>115</td>\n",
       "      <td>NaN</td>\n",
       "    </tr>\n",
       "    <tr>\n",
       "      <td>...</td>\n",
       "      <td>...</td>\n",
       "      <td>...</td>\n",
       "      <td>...</td>\n",
       "      <td>...</td>\n",
       "      <td>...</td>\n",
       "      <td>...</td>\n",
       "      <td>...</td>\n",
       "      <td>...</td>\n",
       "      <td>...</td>\n",
       "      <td>...</td>\n",
       "      <td>...</td>\n",
       "      <td>...</td>\n",
       "    </tr>\n",
       "    <tr>\n",
       "      <td>30935</td>\n",
       "      <td>FOXPU</td>\n",
       "      <td>16707</td>\n",
       "      <td>2018-09-29</td>\n",
       "      <td>2018-10-02</td>\n",
       "      <td>C</td>\n",
       "      <td>18</td>\n",
       "      <td>1</td>\n",
       "      <td>9</td>\n",
       "      <td>2018-03-09</td>\n",
       "      <td>3</td>\n",
       "      <td>204</td>\n",
       "      <td>NaN</td>\n",
       "    </tr>\n",
       "    <tr>\n",
       "      <td>30936</td>\n",
       "      <td>ZNKAO</td>\n",
       "      <td>16708</td>\n",
       "      <td>2018-03-12</td>\n",
       "      <td>2018-03-16</td>\n",
       "      <td>A</td>\n",
       "      <td>13</td>\n",
       "      <td>0</td>\n",
       "      <td>3</td>\n",
       "      <td>2018-03-12</td>\n",
       "      <td>3</td>\n",
       "      <td>0</td>\n",
       "      <td>NaN</td>\n",
       "    </tr>\n",
       "    <tr>\n",
       "      <td>30937</td>\n",
       "      <td>INBOS</td>\n",
       "      <td>16709</td>\n",
       "      <td>2018-01-05</td>\n",
       "      <td>2018-01-10</td>\n",
       "      <td>C</td>\n",
       "      <td>14</td>\n",
       "      <td>0</td>\n",
       "      <td>1</td>\n",
       "      <td>2018-01-05</td>\n",
       "      <td>1</td>\n",
       "      <td>0</td>\n",
       "      <td>NaN</td>\n",
       "    </tr>\n",
       "    <tr>\n",
       "      <td>30938</td>\n",
       "      <td>CUNOS</td>\n",
       "      <td>16710</td>\n",
       "      <td>2018-02-26</td>\n",
       "      <td>2018-03-03</td>\n",
       "      <td>C</td>\n",
       "      <td>19</td>\n",
       "      <td>0</td>\n",
       "      <td>2</td>\n",
       "      <td>2018-02-26</td>\n",
       "      <td>2</td>\n",
       "      <td>0</td>\n",
       "      <td>NaN</td>\n",
       "    </tr>\n",
       "    <tr>\n",
       "      <td>30939</td>\n",
       "      <td>DUBEV</td>\n",
       "      <td>16711</td>\n",
       "      <td>2018-04-30</td>\n",
       "      <td>2018-05-03</td>\n",
       "      <td>B</td>\n",
       "      <td>13</td>\n",
       "      <td>0</td>\n",
       "      <td>4</td>\n",
       "      <td>2018-04-30</td>\n",
       "      <td>4</td>\n",
       "      <td>0</td>\n",
       "      <td>NaN</td>\n",
       "    </tr>\n",
       "  </tbody>\n",
       "</table>\n",
       "<p>30940 rows × 12 columns</p>\n",
       "</div>"
      ],
      "text/plain": [
       "      Transaction_ID  Profile_ID Date_of_Booking Date_of_Service_Requested  \\\n",
       "0              BBCHH           1      2018-05-20                2018-05-21   \n",
       "1              CHWFD           1      2018-09-23                2018-09-23   \n",
       "2              DYDMF           2      2018-11-10                2018-11-13   \n",
       "3              EZYSA           3      2018-04-12                2018-04-16   \n",
       "4              HWAKX           3      2018-08-05                2018-08-06   \n",
       "...              ...         ...             ...                       ...   \n",
       "30935          FOXPU       16707      2018-09-29                2018-10-02   \n",
       "30936          ZNKAO       16708      2018-03-12                2018-03-16   \n",
       "30937          INBOS       16709      2018-01-05                2018-01-10   \n",
       "30938          CUNOS       16710      2018-02-26                2018-03-03   \n",
       "30939          DUBEV       16711      2018-04-30                2018-05-03   \n",
       "\n",
       "      Source  Slot of Booking (Hour of the Day)  sequence  month_of_Booking  \\\n",
       "0          D                                 14         0                 5   \n",
       "1          C                                  8         1                 9   \n",
       "2          C                                 11         0                11   \n",
       "3          B                                  8         0                 4   \n",
       "4          B                                 11         1                 8   \n",
       "...      ...                                ...       ...               ...   \n",
       "30935      C                                 18         1                 9   \n",
       "30936      A                                 13         0                 3   \n",
       "30937      C                                 14         0                 1   \n",
       "30938      C                                 19         0                 2   \n",
       "30939      B                                 13         0                 4   \n",
       "\n",
       "      Cust_acquired_Date  month_of_acquisition  days_since_start  \\\n",
       "0             2018-05-20                     5                 0   \n",
       "1             2018-05-20                     5               126   \n",
       "2             2018-11-10                    11                 0   \n",
       "3             2018-04-12                     4                 0   \n",
       "4             2018-04-12                     4               115   \n",
       "...                  ...                   ...               ...   \n",
       "30935         2018-03-09                     3               204   \n",
       "30936         2018-03-12                     3                 0   \n",
       "30937         2018-01-05                     1                 0   \n",
       "30938         2018-02-26                     2                 0   \n",
       "30939         2018-04-30                     4                 0   \n",
       "\n",
       "       check_90_repeat  \n",
       "0                  NaN  \n",
       "1                  NaN  \n",
       "2                  NaN  \n",
       "3                  NaN  \n",
       "4                  NaN  \n",
       "...                ...  \n",
       "30935              NaN  \n",
       "30936              NaN  \n",
       "30937              NaN  \n",
       "30938              NaN  \n",
       "30939              NaN  \n",
       "\n",
       "[30940 rows x 12 columns]"
      ]
     },
     "execution_count": 504,
     "metadata": {},
     "output_type": "execute_result"
    }
   ],
   "source": [
    "df8 = pd.merge(df, df7, on='Profile_ID',  how='left')\n",
    "df8"
   ]
  },
  {
   "cell_type": "markdown",
   "metadata": {},
   "source": [
    "## Data Wrangling"
   ]
  },
  {
   "cell_type": "code",
   "execution_count": 505,
   "metadata": {},
   "outputs": [],
   "source": [
    "df8['check_90_repeat'] = df8['check_90_repeat'].fillna(0)"
   ]
  },
  {
   "cell_type": "code",
   "execution_count": 506,
   "metadata": {},
   "outputs": [
    {
     "data": {
      "text/html": [
       "<div>\n",
       "<style scoped>\n",
       "    .dataframe tbody tr th:only-of-type {\n",
       "        vertical-align: middle;\n",
       "    }\n",
       "\n",
       "    .dataframe tbody tr th {\n",
       "        vertical-align: top;\n",
       "    }\n",
       "\n",
       "    .dataframe thead th {\n",
       "        text-align: right;\n",
       "    }\n",
       "</style>\n",
       "<table border=\"1\" class=\"dataframe\">\n",
       "  <thead>\n",
       "    <tr style=\"text-align: right;\">\n",
       "      <th></th>\n",
       "      <th>Profile_ID</th>\n",
       "      <th>Slot of Booking (Hour of the Day)</th>\n",
       "      <th>sequence</th>\n",
       "      <th>month_of_Booking</th>\n",
       "      <th>month_of_acquisition</th>\n",
       "      <th>days_since_start</th>\n",
       "      <th>check_90_repeat</th>\n",
       "    </tr>\n",
       "  </thead>\n",
       "  <tbody>\n",
       "    <tr>\n",
       "      <td>count</td>\n",
       "      <td>30940.000000</td>\n",
       "      <td>30940.000000</td>\n",
       "      <td>30940.000000</td>\n",
       "      <td>30940.000000</td>\n",
       "      <td>30940.000000</td>\n",
       "      <td>30940.000000</td>\n",
       "      <td>30940.000000</td>\n",
       "    </tr>\n",
       "    <tr>\n",
       "      <td>mean</td>\n",
       "      <td>8329.657854</td>\n",
       "      <td>13.060440</td>\n",
       "      <td>2.145734</td>\n",
       "      <td>6.554622</td>\n",
       "      <td>6.810504</td>\n",
       "      <td>71.000840</td>\n",
       "      <td>0.439948</td>\n",
       "    </tr>\n",
       "    <tr>\n",
       "      <td>std</td>\n",
       "      <td>4807.274974</td>\n",
       "      <td>3.135142</td>\n",
       "      <td>4.571598</td>\n",
       "      <td>3.475711</td>\n",
       "      <td>4.305393</td>\n",
       "      <td>100.837716</td>\n",
       "      <td>0.496389</td>\n",
       "    </tr>\n",
       "    <tr>\n",
       "      <td>min</td>\n",
       "      <td>1.000000</td>\n",
       "      <td>6.000000</td>\n",
       "      <td>0.000000</td>\n",
       "      <td>1.000000</td>\n",
       "      <td>1.000000</td>\n",
       "      <td>0.000000</td>\n",
       "      <td>0.000000</td>\n",
       "    </tr>\n",
       "    <tr>\n",
       "      <td>25%</td>\n",
       "      <td>4142.750000</td>\n",
       "      <td>12.000000</td>\n",
       "      <td>0.000000</td>\n",
       "      <td>4.000000</td>\n",
       "      <td>3.000000</td>\n",
       "      <td>0.000000</td>\n",
       "      <td>0.000000</td>\n",
       "    </tr>\n",
       "    <tr>\n",
       "      <td>50%</td>\n",
       "      <td>8375.000000</td>\n",
       "      <td>14.000000</td>\n",
       "      <td>0.000000</td>\n",
       "      <td>7.000000</td>\n",
       "      <td>6.000000</td>\n",
       "      <td>0.000000</td>\n",
       "      <td>0.000000</td>\n",
       "    </tr>\n",
       "    <tr>\n",
       "      <td>75%</td>\n",
       "      <td>12432.000000</td>\n",
       "      <td>14.000000</td>\n",
       "      <td>2.000000</td>\n",
       "      <td>10.000000</td>\n",
       "      <td>12.000000</td>\n",
       "      <td>134.000000</td>\n",
       "      <td>1.000000</td>\n",
       "    </tr>\n",
       "    <tr>\n",
       "      <td>max</td>\n",
       "      <td>16711.000000</td>\n",
       "      <td>19.000000</td>\n",
       "      <td>55.000000</td>\n",
       "      <td>12.000000</td>\n",
       "      <td>12.000000</td>\n",
       "      <td>364.000000</td>\n",
       "      <td>1.000000</td>\n",
       "    </tr>\n",
       "  </tbody>\n",
       "</table>\n",
       "</div>"
      ],
      "text/plain": [
       "         Profile_ID  Slot of Booking (Hour of the Day)      sequence  \\\n",
       "count  30940.000000                       30940.000000  30940.000000   \n",
       "mean    8329.657854                          13.060440      2.145734   \n",
       "std     4807.274974                           3.135142      4.571598   \n",
       "min        1.000000                           6.000000      0.000000   \n",
       "25%     4142.750000                          12.000000      0.000000   \n",
       "50%     8375.000000                          14.000000      0.000000   \n",
       "75%    12432.000000                          14.000000      2.000000   \n",
       "max    16711.000000                          19.000000     55.000000   \n",
       "\n",
       "       month_of_Booking  month_of_acquisition  days_since_start  \\\n",
       "count      30940.000000          30940.000000      30940.000000   \n",
       "mean           6.554622              6.810504         71.000840   \n",
       "std            3.475711              4.305393        100.837716   \n",
       "min            1.000000              1.000000          0.000000   \n",
       "25%            4.000000              3.000000          0.000000   \n",
       "50%            7.000000              6.000000          0.000000   \n",
       "75%           10.000000             12.000000        134.000000   \n",
       "max           12.000000             12.000000        364.000000   \n",
       "\n",
       "       check_90_repeat  \n",
       "count     30940.000000  \n",
       "mean          0.439948  \n",
       "std           0.496389  \n",
       "min           0.000000  \n",
       "25%           0.000000  \n",
       "50%           0.000000  \n",
       "75%           1.000000  \n",
       "max           1.000000  "
      ]
     },
     "execution_count": 506,
     "metadata": {},
     "output_type": "execute_result"
    }
   ],
   "source": [
    "df8['check_90_repeat'] = df8['check_90_repeat'].astype(int)\n",
    "df8.describe()"
   ]
  },
  {
   "cell_type": "code",
   "execution_count": 507,
   "metadata": {},
   "outputs": [
    {
     "data": {
      "text/plain": [
       "Transaction_ID                       0\n",
       "Profile_ID                           0\n",
       "Date_of_Booking                      0\n",
       "Date_of_Service_Requested            0\n",
       "Source                               0\n",
       "Slot of Booking (Hour of the Day)    0\n",
       "sequence                             0\n",
       "month_of_Booking                     0\n",
       "Cust_acquired_Date                   0\n",
       "month_of_acquisition                 0\n",
       "days_since_start                     0\n",
       "check_90_repeat                      0\n",
       "dtype: int64"
      ]
     },
     "execution_count": 507,
     "metadata": {},
     "output_type": "execute_result"
    }
   ],
   "source": [
    "df8.isnull().sum()"
   ]
  },
  {
   "cell_type": "code",
   "execution_count": 508,
   "metadata": {},
   "outputs": [
    {
     "data": {
      "text/plain": [
       "<matplotlib.axes._subplots.AxesSubplot at 0x1de338e7308>"
      ]
     },
     "execution_count": 508,
     "metadata": {},
     "output_type": "execute_result"
    },
    {
     "data": {
      "image/png": "[encoded data removed]",
      "text/plain": [
       "<Figure size 432x288 with 1 Axes>"
      ]
     },
     "metadata": {
      "needs_background": "light"
     },
     "output_type": "display_data"
    }
   ],
   "source": [
    "sns.heatmap(df8.isnull(), yticklabels= False, cbar=False)"
   ]
  },
  {
   "cell_type": "markdown",
   "metadata": {},
   "source": [
    "## EDA"
   ]
  },
  {
   "cell_type": "code",
   "execution_count": 509,
   "metadata": {},
   "outputs": [
    {
     "data": {
      "text/plain": [
       "Text(0.5, 1.0, 'Number of 90 days non repeated customers vs repeated customers')"
      ]
     },
     "execution_count": 509,
     "metadata": {},
     "output_type": "execute_result"
    },
    {
     "data": {
      "image/png": "[encoded data removed]",
      "text/plain": [
       "<Figure size 576x360 with 1 Axes>"
      ]
     },
     "metadata": {
      "needs_background": "light"
     },
     "output_type": "display_data"
    }
   ],
   "source": [
    "plt.figure(figsize=(8,5))\n",
    "sns.countplot(x=\"check_90_repeat\", data= df8[(df8[\"sequence\"] == 0)])\n",
    "plt.title(\"Number of 90 days non repeated customers vs repeated customers\")"
   ]
  },
  {
   "cell_type": "code",
   "execution_count": 510,
   "metadata": {},
   "outputs": [
    {
     "data": {
      "text/plain": [
       "Text(0.5, 1.0, '90 days non repeated customers vs repeated customers acquired from different Sources')"
      ]
     },
     "execution_count": 510,
     "metadata": {},
     "output_type": "execute_result"
    },
    {
     "data": {
      "image/png": "[encoded data removed]",
      "text/plain": [
       "<Figure size 720x504 with 1 Axes>"
      ]
     },
     "metadata": {
      "needs_background": "light"
     },
     "output_type": "display_data"
    }
   ],
   "source": [
    "plt.figure(figsize=(10, 7))\n",
    "sns.countplot(x= \"check_90_repeat\", hue= \"Source\", data= df8[(df8[\"sequence\"] == 0)])\n",
    "plt.title(\"90 days non repeated customers vs repeated customers acquired from different Sources\")"
   ]
  },
  {
   "cell_type": "markdown",
   "metadata": {},
   "source": [
    "# Creating Training data"
   ]
  },
  {
   "cell_type": "code",
   "execution_count": 511,
   "metadata": {},
   "outputs": [
    {
     "data": {
      "text/html": [
       "<div>\n",
       "<style scoped>\n",
       "    .dataframe tbody tr th:only-of-type {\n",
       "        vertical-align: middle;\n",
       "    }\n",
       "\n",
       "    .dataframe tbody tr th {\n",
       "        vertical-align: top;\n",
       "    }\n",
       "\n",
       "    .dataframe thead th {\n",
       "        text-align: right;\n",
       "    }\n",
       "</style>\n",
       "<table border=\"1\" class=\"dataframe\">\n",
       "  <thead>\n",
       "    <tr style=\"text-align: right;\">\n",
       "      <th></th>\n",
       "      <th>Profile_ID</th>\n",
       "      <th>Slot of Booking (Hour of the Day)</th>\n",
       "      <th>sequence</th>\n",
       "      <th>month_of_Booking</th>\n",
       "      <th>month_of_acquisition</th>\n",
       "      <th>days_since_start</th>\n",
       "      <th>check_90_repeat</th>\n",
       "    </tr>\n",
       "  </thead>\n",
       "  <tbody>\n",
       "    <tr>\n",
       "      <td>count</td>\n",
       "      <td>15696.000000</td>\n",
       "      <td>15696.000000</td>\n",
       "      <td>15696.0</td>\n",
       "      <td>15696.000000</td>\n",
       "      <td>15696.000000</td>\n",
       "      <td>15696.0</td>\n",
       "      <td>15696.000000</td>\n",
       "    </tr>\n",
       "    <tr>\n",
       "      <td>mean</td>\n",
       "      <td>8345.836583</td>\n",
       "      <td>13.064348</td>\n",
       "      <td>0.0</td>\n",
       "      <td>6.089832</td>\n",
       "      <td>6.089832</td>\n",
       "      <td>0.0</td>\n",
       "      <td>0.170808</td>\n",
       "    </tr>\n",
       "    <tr>\n",
       "      <td>std</td>\n",
       "      <td>4824.572936</td>\n",
       "      <td>3.150580</td>\n",
       "      <td>0.0</td>\n",
       "      <td>3.674450</td>\n",
       "      <td>3.674450</td>\n",
       "      <td>0.0</td>\n",
       "      <td>0.376353</td>\n",
       "    </tr>\n",
       "    <tr>\n",
       "      <td>min</td>\n",
       "      <td>1.000000</td>\n",
       "      <td>6.000000</td>\n",
       "      <td>0.0</td>\n",
       "      <td>1.000000</td>\n",
       "      <td>1.000000</td>\n",
       "      <td>0.0</td>\n",
       "      <td>0.000000</td>\n",
       "    </tr>\n",
       "    <tr>\n",
       "      <td>25%</td>\n",
       "      <td>4151.750000</td>\n",
       "      <td>11.000000</td>\n",
       "      <td>0.0</td>\n",
       "      <td>3.000000</td>\n",
       "      <td>3.000000</td>\n",
       "      <td>0.0</td>\n",
       "      <td>0.000000</td>\n",
       "    </tr>\n",
       "    <tr>\n",
       "      <td>50%</td>\n",
       "      <td>8342.500000</td>\n",
       "      <td>14.000000</td>\n",
       "      <td>0.0</td>\n",
       "      <td>6.000000</td>\n",
       "      <td>6.000000</td>\n",
       "      <td>0.0</td>\n",
       "      <td>0.000000</td>\n",
       "    </tr>\n",
       "    <tr>\n",
       "      <td>75%</td>\n",
       "      <td>12525.250000</td>\n",
       "      <td>14.000000</td>\n",
       "      <td>0.0</td>\n",
       "      <td>9.000000</td>\n",
       "      <td>9.000000</td>\n",
       "      <td>0.0</td>\n",
       "      <td>0.000000</td>\n",
       "    </tr>\n",
       "    <tr>\n",
       "      <td>max</td>\n",
       "      <td>16711.000000</td>\n",
       "      <td>19.000000</td>\n",
       "      <td>0.0</td>\n",
       "      <td>12.000000</td>\n",
       "      <td>12.000000</td>\n",
       "      <td>0.0</td>\n",
       "      <td>1.000000</td>\n",
       "    </tr>\n",
       "  </tbody>\n",
       "</table>\n",
       "</div>"
      ],
      "text/plain": [
       "         Profile_ID  Slot of Booking (Hour of the Day)  sequence  \\\n",
       "count  15696.000000                       15696.000000   15696.0   \n",
       "mean    8345.836583                          13.064348       0.0   \n",
       "std     4824.572936                           3.150580       0.0   \n",
       "min        1.000000                           6.000000       0.0   \n",
       "25%     4151.750000                          11.000000       0.0   \n",
       "50%     8342.500000                          14.000000       0.0   \n",
       "75%    12525.250000                          14.000000       0.0   \n",
       "max    16711.000000                          19.000000       0.0   \n",
       "\n",
       "       month_of_Booking  month_of_acquisition  days_since_start  \\\n",
       "count      15696.000000          15696.000000           15696.0   \n",
       "mean           6.089832              6.089832               0.0   \n",
       "std            3.674450              3.674450               0.0   \n",
       "min            1.000000              1.000000               0.0   \n",
       "25%            3.000000              3.000000               0.0   \n",
       "50%            6.000000              6.000000               0.0   \n",
       "75%            9.000000              9.000000               0.0   \n",
       "max           12.000000             12.000000               0.0   \n",
       "\n",
       "       check_90_repeat  \n",
       "count     15696.000000  \n",
       "mean          0.170808  \n",
       "std           0.376353  \n",
       "min           0.000000  \n",
       "25%           0.000000  \n",
       "50%           0.000000  \n",
       "75%           0.000000  \n",
       "max           1.000000  "
      ]
     },
     "execution_count": 511,
     "metadata": {},
     "output_type": "execute_result"
    }
   ],
   "source": [
    "train_data= df8[(df8[\"sequence\"] == 0) & (df8[\"month_of_acquisition\"] != 11)]\n",
    "train_data.describe()"
   ]
  },
  {
   "cell_type": "code",
   "execution_count": 512,
   "metadata": {},
   "outputs": [
    {
     "name": "stdout",
     "output_type": "stream",
     "text": [
      "0        1\n",
      "3        4\n",
      "5        3\n",
      "6        1\n",
      "7        3\n",
      "        ..\n",
      "30934    1\n",
      "30936    4\n",
      "30937    5\n",
      "30938    5\n",
      "30939    3\n",
      "Length: 15696, dtype: int64\n"
     ]
    },
    {
     "name": "stderr",
     "output_type": "stream",
     "text": [
      "C:\\Users\\VISHAL\\Anaconda3\\lib\\site-packages\\ipykernel_launcher.py:3: SettingWithCopyWarning: \n",
      "A value is trying to be set on a copy of a slice from a DataFrame.\n",
      "Try using .loc[row_indexer,col_indexer] = value instead\n",
      "\n",
      "See the caveats in the documentation: http://pandas.pydata.org/pandas-docs/stable/user_guide/indexing.html#returning-a-view-versus-a-copy\n",
      "  This is separate from the ipykernel package so we can avoid doing imports until\n"
     ]
    },
    {
     "data": {
      "text/html": [
       "<div>\n",
       "<style scoped>\n",
       "    .dataframe tbody tr th:only-of-type {\n",
       "        vertical-align: middle;\n",
       "    }\n",
       "\n",
       "    .dataframe tbody tr th {\n",
       "        vertical-align: top;\n",
       "    }\n",
       "\n",
       "    .dataframe thead th {\n",
       "        text-align: right;\n",
       "    }\n",
       "</style>\n",
       "<table border=\"1\" class=\"dataframe\">\n",
       "  <thead>\n",
       "    <tr style=\"text-align: right;\">\n",
       "      <th></th>\n",
       "      <th>Transaction_ID</th>\n",
       "      <th>Profile_ID</th>\n",
       "      <th>Date_of_Booking</th>\n",
       "      <th>Date_of_Service_Requested</th>\n",
       "      <th>Source</th>\n",
       "      <th>Slot of Booking (Hour of the Day)</th>\n",
       "      <th>sequence</th>\n",
       "      <th>month_of_Booking</th>\n",
       "      <th>Cust_acquired_Date</th>\n",
       "      <th>month_of_acquisition</th>\n",
       "      <th>days_since_start</th>\n",
       "      <th>check_90_repeat</th>\n",
       "      <th>Gap_Booking_Service</th>\n",
       "    </tr>\n",
       "  </thead>\n",
       "  <tbody>\n",
       "    <tr>\n",
       "      <td>0</td>\n",
       "      <td>BBCHH</td>\n",
       "      <td>1</td>\n",
       "      <td>2018-05-20</td>\n",
       "      <td>2018-05-21</td>\n",
       "      <td>D</td>\n",
       "      <td>14</td>\n",
       "      <td>0</td>\n",
       "      <td>5</td>\n",
       "      <td>2018-05-20</td>\n",
       "      <td>5</td>\n",
       "      <td>0</td>\n",
       "      <td>0</td>\n",
       "      <td>1</td>\n",
       "    </tr>\n",
       "    <tr>\n",
       "      <td>3</td>\n",
       "      <td>EZYSA</td>\n",
       "      <td>3</td>\n",
       "      <td>2018-04-12</td>\n",
       "      <td>2018-04-16</td>\n",
       "      <td>B</td>\n",
       "      <td>8</td>\n",
       "      <td>0</td>\n",
       "      <td>4</td>\n",
       "      <td>2018-04-12</td>\n",
       "      <td>4</td>\n",
       "      <td>0</td>\n",
       "      <td>0</td>\n",
       "      <td>4</td>\n",
       "    </tr>\n",
       "    <tr>\n",
       "      <td>5</td>\n",
       "      <td>YRKFO</td>\n",
       "      <td>4</td>\n",
       "      <td>2018-03-02</td>\n",
       "      <td>2018-03-05</td>\n",
       "      <td>A</td>\n",
       "      <td>13</td>\n",
       "      <td>0</td>\n",
       "      <td>3</td>\n",
       "      <td>2018-03-02</td>\n",
       "      <td>3</td>\n",
       "      <td>0</td>\n",
       "      <td>0</td>\n",
       "      <td>3</td>\n",
       "    </tr>\n",
       "    <tr>\n",
       "      <td>6</td>\n",
       "      <td>JSFWY</td>\n",
       "      <td>5</td>\n",
       "      <td>2018-01-06</td>\n",
       "      <td>2018-01-07</td>\n",
       "      <td>C</td>\n",
       "      <td>14</td>\n",
       "      <td>0</td>\n",
       "      <td>1</td>\n",
       "      <td>2018-01-06</td>\n",
       "      <td>1</td>\n",
       "      <td>0</td>\n",
       "      <td>0</td>\n",
       "      <td>1</td>\n",
       "    </tr>\n",
       "    <tr>\n",
       "      <td>7</td>\n",
       "      <td>GTLXK</td>\n",
       "      <td>6</td>\n",
       "      <td>2018-07-18</td>\n",
       "      <td>2018-07-21</td>\n",
       "      <td>B</td>\n",
       "      <td>13</td>\n",
       "      <td>0</td>\n",
       "      <td>7</td>\n",
       "      <td>2018-07-18</td>\n",
       "      <td>7</td>\n",
       "      <td>0</td>\n",
       "      <td>0</td>\n",
       "      <td>3</td>\n",
       "    </tr>\n",
       "    <tr>\n",
       "      <td>...</td>\n",
       "      <td>...</td>\n",
       "      <td>...</td>\n",
       "      <td>...</td>\n",
       "      <td>...</td>\n",
       "      <td>...</td>\n",
       "      <td>...</td>\n",
       "      <td>...</td>\n",
       "      <td>...</td>\n",
       "      <td>...</td>\n",
       "      <td>...</td>\n",
       "      <td>...</td>\n",
       "      <td>...</td>\n",
       "      <td>...</td>\n",
       "    </tr>\n",
       "    <tr>\n",
       "      <td>30934</td>\n",
       "      <td>SXRYD</td>\n",
       "      <td>16707</td>\n",
       "      <td>2018-03-09</td>\n",
       "      <td>2018-03-10</td>\n",
       "      <td>B</td>\n",
       "      <td>14</td>\n",
       "      <td>0</td>\n",
       "      <td>3</td>\n",
       "      <td>2018-03-09</td>\n",
       "      <td>3</td>\n",
       "      <td>0</td>\n",
       "      <td>0</td>\n",
       "      <td>1</td>\n",
       "    </tr>\n",
       "    <tr>\n",
       "      <td>30936</td>\n",
       "      <td>ZNKAO</td>\n",
       "      <td>16708</td>\n",
       "      <td>2018-03-12</td>\n",
       "      <td>2018-03-16</td>\n",
       "      <td>A</td>\n",
       "      <td>13</td>\n",
       "      <td>0</td>\n",
       "      <td>3</td>\n",
       "      <td>2018-03-12</td>\n",
       "      <td>3</td>\n",
       "      <td>0</td>\n",
       "      <td>0</td>\n",
       "      <td>4</td>\n",
       "    </tr>\n",
       "    <tr>\n",
       "      <td>30937</td>\n",
       "      <td>INBOS</td>\n",
       "      <td>16709</td>\n",
       "      <td>2018-01-05</td>\n",
       "      <td>2018-01-10</td>\n",
       "      <td>C</td>\n",
       "      <td>14</td>\n",
       "      <td>0</td>\n",
       "      <td>1</td>\n",
       "      <td>2018-01-05</td>\n",
       "      <td>1</td>\n",
       "      <td>0</td>\n",
       "      <td>0</td>\n",
       "      <td>5</td>\n",
       "    </tr>\n",
       "    <tr>\n",
       "      <td>30938</td>\n",
       "      <td>CUNOS</td>\n",
       "      <td>16710</td>\n",
       "      <td>2018-02-26</td>\n",
       "      <td>2018-03-03</td>\n",
       "      <td>C</td>\n",
       "      <td>19</td>\n",
       "      <td>0</td>\n",
       "      <td>2</td>\n",
       "      <td>2018-02-26</td>\n",
       "      <td>2</td>\n",
       "      <td>0</td>\n",
       "      <td>0</td>\n",
       "      <td>5</td>\n",
       "    </tr>\n",
       "    <tr>\n",
       "      <td>30939</td>\n",
       "      <td>DUBEV</td>\n",
       "      <td>16711</td>\n",
       "      <td>2018-04-30</td>\n",
       "      <td>2018-05-03</td>\n",
       "      <td>B</td>\n",
       "      <td>13</td>\n",
       "      <td>0</td>\n",
       "      <td>4</td>\n",
       "      <td>2018-04-30</td>\n",
       "      <td>4</td>\n",
       "      <td>0</td>\n",
       "      <td>0</td>\n",
       "      <td>3</td>\n",
       "    </tr>\n",
       "  </tbody>\n",
       "</table>\n",
       "<p>15696 rows × 13 columns</p>\n",
       "</div>"
      ],
      "text/plain": [
       "      Transaction_ID  Profile_ID Date_of_Booking Date_of_Service_Requested  \\\n",
       "0              BBCHH           1      2018-05-20                2018-05-21   \n",
       "3              EZYSA           3      2018-04-12                2018-04-16   \n",
       "5              YRKFO           4      2018-03-02                2018-03-05   \n",
       "6              JSFWY           5      2018-01-06                2018-01-07   \n",
       "7              GTLXK           6      2018-07-18                2018-07-21   \n",
       "...              ...         ...             ...                       ...   \n",
       "30934          SXRYD       16707      2018-03-09                2018-03-10   \n",
       "30936          ZNKAO       16708      2018-03-12                2018-03-16   \n",
       "30937          INBOS       16709      2018-01-05                2018-01-10   \n",
       "30938          CUNOS       16710      2018-02-26                2018-03-03   \n",
       "30939          DUBEV       16711      2018-04-30                2018-05-03   \n",
       "\n",
       "      Source  Slot of Booking (Hour of the Day)  sequence  month_of_Booking  \\\n",
       "0          D                                 14         0                 5   \n",
       "3          B                                  8         0                 4   \n",
       "5          A                                 13         0                 3   \n",
       "6          C                                 14         0                 1   \n",
       "7          B                                 13         0                 7   \n",
       "...      ...                                ...       ...               ...   \n",
       "30934      B                                 14         0                 3   \n",
       "30936      A                                 13         0                 3   \n",
       "30937      C                                 14         0                 1   \n",
       "30938      C                                 19         0                 2   \n",
       "30939      B                                 13         0                 4   \n",
       "\n",
       "      Cust_acquired_Date  month_of_acquisition  days_since_start  \\\n",
       "0             2018-05-20                     5                 0   \n",
       "3             2018-04-12                     4                 0   \n",
       "5             2018-03-02                     3                 0   \n",
       "6             2018-01-06                     1                 0   \n",
       "7             2018-07-18                     7                 0   \n",
       "...                  ...                   ...               ...   \n",
       "30934         2018-03-09                     3                 0   \n",
       "30936         2018-03-12                     3                 0   \n",
       "30937         2018-01-05                     1                 0   \n",
       "30938         2018-02-26                     2                 0   \n",
       "30939         2018-04-30                     4                 0   \n",
       "\n",
       "       check_90_repeat  Gap_Booking_Service  \n",
       "0                    0                    1  \n",
       "3                    0                    4  \n",
       "5                    0                    3  \n",
       "6                    0                    1  \n",
       "7                    0                    3  \n",
       "...                ...                  ...  \n",
       "30934                0                    1  \n",
       "30936                0                    4  \n",
       "30937                0                    5  \n",
       "30938                0                    5  \n",
       "30939                0                    3  \n",
       "\n",
       "[15696 rows x 13 columns]"
      ]
     },
     "execution_count": 512,
     "metadata": {},
     "output_type": "execute_result"
    }
   ],
   "source": [
    "lst_gap = (train_data[\"Date_of_Service_Requested\"] - train_data[\"Date_of_Booking\"]).dt.days\n",
    "print(lst_gap)\n",
    "train_data['Gap_Booking_Service'] = lst_gap\n",
    "train_data"
   ]
  },
  {
   "cell_type": "markdown",
   "metadata": {},
   "source": [
    "# Converting String values to categorical values"
   ]
  },
  {
   "cell_type": "code",
   "execution_count": 513,
   "metadata": {},
   "outputs": [
    {
     "data": {
      "text/html": [
       "<div>\n",
       "<style scoped>\n",
       "    .dataframe tbody tr th:only-of-type {\n",
       "        vertical-align: middle;\n",
       "    }\n",
       "\n",
       "    .dataframe tbody tr th {\n",
       "        vertical-align: top;\n",
       "    }\n",
       "\n",
       "    .dataframe thead th {\n",
       "        text-align: right;\n",
       "    }\n",
       "</style>\n",
       "<table border=\"1\" class=\"dataframe\">\n",
       "  <thead>\n",
       "    <tr style=\"text-align: right;\">\n",
       "      <th></th>\n",
       "      <th>B</th>\n",
       "      <th>C</th>\n",
       "      <th>D</th>\n",
       "    </tr>\n",
       "  </thead>\n",
       "  <tbody>\n",
       "    <tr>\n",
       "      <td>0</td>\n",
       "      <td>0</td>\n",
       "      <td>0</td>\n",
       "      <td>1</td>\n",
       "    </tr>\n",
       "    <tr>\n",
       "      <td>3</td>\n",
       "      <td>1</td>\n",
       "      <td>0</td>\n",
       "      <td>0</td>\n",
       "    </tr>\n",
       "    <tr>\n",
       "      <td>5</td>\n",
       "      <td>0</td>\n",
       "      <td>0</td>\n",
       "      <td>0</td>\n",
       "    </tr>\n",
       "    <tr>\n",
       "      <td>6</td>\n",
       "      <td>0</td>\n",
       "      <td>1</td>\n",
       "      <td>0</td>\n",
       "    </tr>\n",
       "    <tr>\n",
       "      <td>7</td>\n",
       "      <td>1</td>\n",
       "      <td>0</td>\n",
       "      <td>0</td>\n",
       "    </tr>\n",
       "  </tbody>\n",
       "</table>\n",
       "</div>"
      ],
      "text/plain": [
       "   B  C  D\n",
       "0  0  0  1\n",
       "3  1  0  0\n",
       "5  0  0  0\n",
       "6  0  1  0\n",
       "7  1  0  0"
      ]
     },
     "execution_count": 513,
     "metadata": {},
     "output_type": "execute_result"
    }
   ],
   "source": [
    "source= pd.get_dummies(train_data[\"Source\"], drop_first= True)\n",
    "source.head(5)"
   ]
  },
  {
   "cell_type": "code",
   "execution_count": 514,
   "metadata": {},
   "outputs": [],
   "source": [
    "train_data= pd.concat([train_data, source], axis=1)\n"
   ]
  },
  {
   "cell_type": "code",
   "execution_count": 515,
   "metadata": {},
   "outputs": [],
   "source": [
    "train_data.drop([\"Profile_ID\", \"sequence\", \"days_since_start\", \"Transaction_ID\", \"Date_of_Booking\", \"Date_of_Service_Requested\", \"Source\", \"month_of_Booking\", \"Cust_acquired_Date\", \"month_of_acquisition\"], axis=1, inplace= True)"
   ]
  },
  {
   "cell_type": "code",
   "execution_count": 516,
   "metadata": {},
   "outputs": [
    {
     "data": {
      "text/html": [
       "<div>\n",
       "<style scoped>\n",
       "    .dataframe tbody tr th:only-of-type {\n",
       "        vertical-align: middle;\n",
       "    }\n",
       "\n",
       "    .dataframe tbody tr th {\n",
       "        vertical-align: top;\n",
       "    }\n",
       "\n",
       "    .dataframe thead th {\n",
       "        text-align: right;\n",
       "    }\n",
       "</style>\n",
       "<table border=\"1\" class=\"dataframe\">\n",
       "  <thead>\n",
       "    <tr style=\"text-align: right;\">\n",
       "      <th></th>\n",
       "      <th>Slot of Booking (Hour of the Day)</th>\n",
       "      <th>check_90_repeat</th>\n",
       "      <th>Gap_Booking_Service</th>\n",
       "      <th>B</th>\n",
       "      <th>C</th>\n",
       "      <th>D</th>\n",
       "    </tr>\n",
       "  </thead>\n",
       "  <tbody>\n",
       "    <tr>\n",
       "      <td>count</td>\n",
       "      <td>15696.000000</td>\n",
       "      <td>15696.000000</td>\n",
       "      <td>15696.000000</td>\n",
       "      <td>15696.000000</td>\n",
       "      <td>15696.000000</td>\n",
       "      <td>15696.000000</td>\n",
       "    </tr>\n",
       "    <tr>\n",
       "      <td>mean</td>\n",
       "      <td>13.064348</td>\n",
       "      <td>0.170808</td>\n",
       "      <td>2.509620</td>\n",
       "      <td>0.247898</td>\n",
       "      <td>0.338112</td>\n",
       "      <td>0.251147</td>\n",
       "    </tr>\n",
       "    <tr>\n",
       "      <td>std</td>\n",
       "      <td>3.150580</td>\n",
       "      <td>0.376353</td>\n",
       "      <td>1.706061</td>\n",
       "      <td>0.431806</td>\n",
       "      <td>0.473082</td>\n",
       "      <td>0.433687</td>\n",
       "    </tr>\n",
       "    <tr>\n",
       "      <td>min</td>\n",
       "      <td>6.000000</td>\n",
       "      <td>0.000000</td>\n",
       "      <td>0.000000</td>\n",
       "      <td>0.000000</td>\n",
       "      <td>0.000000</td>\n",
       "      <td>0.000000</td>\n",
       "    </tr>\n",
       "    <tr>\n",
       "      <td>25%</td>\n",
       "      <td>11.000000</td>\n",
       "      <td>0.000000</td>\n",
       "      <td>1.000000</td>\n",
       "      <td>0.000000</td>\n",
       "      <td>0.000000</td>\n",
       "      <td>0.000000</td>\n",
       "    </tr>\n",
       "    <tr>\n",
       "      <td>50%</td>\n",
       "      <td>14.000000</td>\n",
       "      <td>0.000000</td>\n",
       "      <td>3.000000</td>\n",
       "      <td>0.000000</td>\n",
       "      <td>0.000000</td>\n",
       "      <td>0.000000</td>\n",
       "    </tr>\n",
       "    <tr>\n",
       "      <td>75%</td>\n",
       "      <td>14.000000</td>\n",
       "      <td>0.000000</td>\n",
       "      <td>4.000000</td>\n",
       "      <td>0.000000</td>\n",
       "      <td>1.000000</td>\n",
       "      <td>1.000000</td>\n",
       "    </tr>\n",
       "    <tr>\n",
       "      <td>max</td>\n",
       "      <td>19.000000</td>\n",
       "      <td>1.000000</td>\n",
       "      <td>5.000000</td>\n",
       "      <td>1.000000</td>\n",
       "      <td>1.000000</td>\n",
       "      <td>1.000000</td>\n",
       "    </tr>\n",
       "  </tbody>\n",
       "</table>\n",
       "</div>"
      ],
      "text/plain": [
       "       Slot of Booking (Hour of the Day)  check_90_repeat  \\\n",
       "count                       15696.000000     15696.000000   \n",
       "mean                           13.064348         0.170808   \n",
       "std                             3.150580         0.376353   \n",
       "min                             6.000000         0.000000   \n",
       "25%                            11.000000         0.000000   \n",
       "50%                            14.000000         0.000000   \n",
       "75%                            14.000000         0.000000   \n",
       "max                            19.000000         1.000000   \n",
       "\n",
       "       Gap_Booking_Service             B             C             D  \n",
       "count         15696.000000  15696.000000  15696.000000  15696.000000  \n",
       "mean              2.509620      0.247898      0.338112      0.251147  \n",
       "std               1.706061      0.431806      0.473082      0.433687  \n",
       "min               0.000000      0.000000      0.000000      0.000000  \n",
       "25%               1.000000      0.000000      0.000000      0.000000  \n",
       "50%               3.000000      0.000000      0.000000      0.000000  \n",
       "75%               4.000000      0.000000      1.000000      1.000000  \n",
       "max               5.000000      1.000000      1.000000      1.000000  "
      ]
     },
     "execution_count": 516,
     "metadata": {},
     "output_type": "execute_result"
    }
   ],
   "source": [
    "train_data.describe()"
   ]
  },
  {
   "cell_type": "code",
   "execution_count": 517,
   "metadata": {},
   "outputs": [
    {
     "data": {
      "text/html": [
       "<div>\n",
       "<style scoped>\n",
       "    .dataframe tbody tr th:only-of-type {\n",
       "        vertical-align: middle;\n",
       "    }\n",
       "\n",
       "    .dataframe tbody tr th {\n",
       "        vertical-align: top;\n",
       "    }\n",
       "\n",
       "    .dataframe thead th {\n",
       "        text-align: right;\n",
       "    }\n",
       "</style>\n",
       "<table border=\"1\" class=\"dataframe\">\n",
       "  <thead>\n",
       "    <tr style=\"text-align: right;\">\n",
       "      <th></th>\n",
       "      <th>Slot of Booking (Hour of the Day)</th>\n",
       "      <th>check_90_repeat</th>\n",
       "      <th>Gap_Booking_Service</th>\n",
       "      <th>B</th>\n",
       "      <th>C</th>\n",
       "      <th>D</th>\n",
       "    </tr>\n",
       "  </thead>\n",
       "  <tbody>\n",
       "    <tr>\n",
       "      <td>0</td>\n",
       "      <td>14</td>\n",
       "      <td>0</td>\n",
       "      <td>1</td>\n",
       "      <td>0</td>\n",
       "      <td>0</td>\n",
       "      <td>1</td>\n",
       "    </tr>\n",
       "    <tr>\n",
       "      <td>3</td>\n",
       "      <td>8</td>\n",
       "      <td>0</td>\n",
       "      <td>4</td>\n",
       "      <td>1</td>\n",
       "      <td>0</td>\n",
       "      <td>0</td>\n",
       "    </tr>\n",
       "    <tr>\n",
       "      <td>5</td>\n",
       "      <td>13</td>\n",
       "      <td>0</td>\n",
       "      <td>3</td>\n",
       "      <td>0</td>\n",
       "      <td>0</td>\n",
       "      <td>0</td>\n",
       "    </tr>\n",
       "    <tr>\n",
       "      <td>6</td>\n",
       "      <td>14</td>\n",
       "      <td>0</td>\n",
       "      <td>1</td>\n",
       "      <td>0</td>\n",
       "      <td>1</td>\n",
       "      <td>0</td>\n",
       "    </tr>\n",
       "    <tr>\n",
       "      <td>7</td>\n",
       "      <td>13</td>\n",
       "      <td>0</td>\n",
       "      <td>3</td>\n",
       "      <td>1</td>\n",
       "      <td>0</td>\n",
       "      <td>0</td>\n",
       "    </tr>\n",
       "  </tbody>\n",
       "</table>\n",
       "</div>"
      ],
      "text/plain": [
       "   Slot of Booking (Hour of the Day)  check_90_repeat  Gap_Booking_Service  B  \\\n",
       "0                                 14                0                    1  0   \n",
       "3                                  8                0                    4  1   \n",
       "5                                 13                0                    3  0   \n",
       "6                                 14                0                    1  0   \n",
       "7                                 13                0                    3  1   \n",
       "\n",
       "   C  D  \n",
       "0  0  1  \n",
       "3  0  0  \n",
       "5  0  0  \n",
       "6  1  0  \n",
       "7  0  0  "
      ]
     },
     "execution_count": 517,
     "metadata": {},
     "output_type": "execute_result"
    }
   ],
   "source": [
    "train_data.head()"
   ]
  },
  {
   "cell_type": "code",
   "execution_count": 518,
   "metadata": {},
   "outputs": [
    {
     "name": "stdout",
     "output_type": "stream",
     "text": [
      "<class 'pandas.core.frame.DataFrame'>\n",
      "Int64Index: 15696 entries, 0 to 30939\n",
      "Data columns (total 6 columns):\n",
      "Slot of Booking (Hour of the Day)    15696 non-null int64\n",
      "check_90_repeat                      15696 non-null int32\n",
      "Gap_Booking_Service                  15696 non-null int64\n",
      "B                                    15696 non-null uint8\n",
      "C                                    15696 non-null uint8\n",
      "D                                    15696 non-null uint8\n",
      "dtypes: int32(1), int64(2), uint8(3)\n",
      "memory usage: 475.2 KB\n"
     ]
    }
   ],
   "source": [
    "train_data.info()"
   ]
  },
  {
   "cell_type": "markdown",
   "metadata": {},
   "source": [
    "## Train Data"
   ]
  },
  {
   "cell_type": "code",
   "execution_count": 519,
   "metadata": {},
   "outputs": [],
   "source": [
    "X= train_data.drop(\"check_90_repeat\", axis=1)\n",
    "\n",
    "y= train_data[\"check_90_repeat\"]"
   ]
  },
  {
   "cell_type": "markdown",
   "metadata": {},
   "source": [
    "# Logistic Regression"
   ]
  },
  {
   "cell_type": "code",
   "execution_count": 520,
   "metadata": {},
   "outputs": [],
   "source": [
    "from sklearn.model_selection import train_test_split\n",
    "from sklearn.linear_model import LogisticRegression"
   ]
  },
  {
   "cell_type": "code",
   "execution_count": 521,
   "metadata": {},
   "outputs": [],
   "source": [
    "X_train, X_test, y_train, y_test= train_test_split(X, y, test_size= 0.3, random_state= 42)"
   ]
  },
  {
   "cell_type": "code",
   "execution_count": 522,
   "metadata": {},
   "outputs": [],
   "source": [
    "logmodel= LogisticRegression()"
   ]
  },
  {
   "cell_type": "code",
   "execution_count": 523,
   "metadata": {},
   "outputs": [
    {
     "name": "stderr",
     "output_type": "stream",
     "text": [
      "C:\\Users\\VISHAL\\Anaconda3\\lib\\site-packages\\sklearn\\linear_model\\logistic.py:432: FutureWarning: Default solver will be changed to 'lbfgs' in 0.22. Specify a solver to silence this warning.\n",
      "  FutureWarning)\n"
     ]
    },
    {
     "data": {
      "text/plain": [
       "LogisticRegression(C=1.0, class_weight=None, dual=False, fit_intercept=True,\n",
       "                   intercept_scaling=1, l1_ratio=None, max_iter=100,\n",
       "                   multi_class='warn', n_jobs=None, penalty='l2',\n",
       "                   random_state=None, solver='warn', tol=0.0001, verbose=0,\n",
       "                   warm_start=False)"
      ]
     },
     "execution_count": 523,
     "metadata": {},
     "output_type": "execute_result"
    }
   ],
   "source": [
    "logmodel.fit(X_train, y_train)"
   ]
  },
  {
   "cell_type": "code",
   "execution_count": 524,
   "metadata": {},
   "outputs": [],
   "source": [
    "L_prediction= logmodel.predict(X_test)"
   ]
  },
  {
   "cell_type": "markdown",
   "metadata": {},
   "source": [
    "## Precision, Recall, Confusion Matrix"
   ]
  },
  {
   "cell_type": "code",
   "execution_count": 525,
   "metadata": {},
   "outputs": [],
   "source": [
    "from sklearn.metrics import classification_report\n",
    "from sklearn.metrics import confusion_matrix\n",
    "from sklearn.metrics import accuracy_score"
   ]
  },
  {
   "cell_type": "code",
   "execution_count": 526,
   "metadata": {},
   "outputs": [
    {
     "name": "stdout",
     "output_type": "stream",
     "text": [
      "              precision    recall  f1-score   support\n",
      "\n",
      "           0       0.83      1.00      0.91      3903\n",
      "           1       0.00      0.00      0.00       806\n",
      "\n",
      "    accuracy                           0.83      4709\n",
      "   macro avg       0.41      0.50      0.45      4709\n",
      "weighted avg       0.69      0.83      0.75      4709\n",
      "\n"
     ]
    },
    {
     "name": "stderr",
     "output_type": "stream",
     "text": [
      "C:\\Users\\VISHAL\\Anaconda3\\lib\\site-packages\\sklearn\\metrics\\classification.py:1437: UndefinedMetricWarning: Precision and F-score are ill-defined and being set to 0.0 in labels with no predicted samples.\n",
      "  'precision', 'predicted', average, warn_for)\n"
     ]
    }
   ],
   "source": [
    "print(classification_report(y_test, L_prediction))"
   ]
  },
  {
   "cell_type": "code",
   "execution_count": 527,
   "metadata": {},
   "outputs": [
    {
     "name": "stdout",
     "output_type": "stream",
     "text": [
      "[[3903    0]\n",
      " [ 806    0]]\n"
     ]
    }
   ],
   "source": [
    "print(confusion_matrix(y_test, L_prediction))\n"
   ]
  },
  {
   "cell_type": "code",
   "execution_count": 528,
   "metadata": {},
   "outputs": [
    {
     "name": "stdout",
     "output_type": "stream",
     "text": [
      "0.8288383945636016\n"
     ]
    }
   ],
   "source": [
    "lra= accuracy_score(y_test, L_prediction)\n",
    "print(lra)"
   ]
  },
  {
   "cell_type": "markdown",
   "metadata": {},
   "source": [
    "## Decision Trees Classifier"
   ]
  },
  {
   "cell_type": "code",
   "execution_count": 529,
   "metadata": {},
   "outputs": [],
   "source": [
    "from sklearn.tree import DecisionTreeClassifier"
   ]
  },
  {
   "cell_type": "code",
   "execution_count": 530,
   "metadata": {},
   "outputs": [
    {
     "data": {
      "text/plain": [
       "DecisionTreeClassifier(class_weight=None, criterion='gini', max_depth=3,\n",
       "                       max_features=None, max_leaf_nodes=None,\n",
       "                       min_impurity_decrease=0.0, min_impurity_split=None,\n",
       "                       min_samples_leaf=5, min_samples_split=2,\n",
       "                       min_weight_fraction_leaf=0.0, presort=False,\n",
       "                       random_state=100, splitter='best')"
      ]
     },
     "execution_count": 530,
     "metadata": {},
     "output_type": "execute_result"
    }
   ],
   "source": [
    "clf_gini = DecisionTreeClassifier(criterion = 'gini', random_state = 100, max_depth= 3, min_samples_leaf= 5)\n",
    "clf_gini.fit(X_train, y_train)"
   ]
  },
  {
   "cell_type": "code",
   "execution_count": 565,
   "metadata": {},
   "outputs": [
    {
     "name": "stdout",
     "output_type": "stream",
     "text": [
      "              precision    recall  f1-score   support\n",
      "\n",
      "           0       0.83      1.00      0.91      3903\n",
      "           1       0.00      0.00      0.00       806\n",
      "\n",
      "    accuracy                           0.83      4709\n",
      "   macro avg       0.41      0.50      0.45      4709\n",
      "weighted avg       0.69      0.83      0.75      4709\n",
      "\n",
      "[[3903    0]\n",
      " [ 806    0]]\n",
      "0.8288383945636016\n"
     ]
    },
    {
     "name": "stderr",
     "output_type": "stream",
     "text": [
      "C:\\Users\\VISHAL\\Anaconda3\\lib\\site-packages\\sklearn\\metrics\\classification.py:1437: UndefinedMetricWarning: Precision and F-score are ill-defined and being set to 0.0 in labels with no predicted samples.\n",
      "  'precision', 'predicted', average, warn_for)\n"
     ]
    }
   ],
   "source": [
    "# Making Prediction\n",
    "D_pred = clf_gini.predict(X_test)\n",
    "\n",
    "#Classification report\n",
    "print(classification_report(y_test, D_pred))\n",
    "\n",
    "\n",
    "#confusion matrix\n",
    "c = confusion_matrix(y_test, D_pred)\n",
    "print(c)\n",
    "\n",
    "# Over all accuarcy\n",
    "dta = (c[0,0]+c[1,1])/np.sum(c)\n",
    "print(dta)"
   ]
  },
  {
   "cell_type": "markdown",
   "metadata": {},
   "source": [
    "## Random Forest Classifier"
   ]
  },
  {
   "cell_type": "code",
   "execution_count": 318,
   "metadata": {},
   "outputs": [],
   "source": [
    "from sklearn.ensemble import RandomForestClassifier"
   ]
  },
  {
   "cell_type": "code",
   "execution_count": 545,
   "metadata": {},
   "outputs": [
    {
     "name": "stdout",
     "output_type": "stream",
     "text": [
      "confusion matrix:\n",
      " [[3896    7]\n",
      " [ 803    3]]\n",
      "accuracy score =  0.8279889573157783\n"
     ]
    }
   ],
   "source": [
    "rf = RandomForestClassifier(n_estimators = 10, criterion = 'entropy')\n",
    "rf.fit(X_train,y_train)\n",
    "\n",
    "# Making Prediction\n",
    "Rf_pred = rf.predict(X_test)\n",
    "cm = confusion_matrix(y_test,Rf_pred)\n",
    "print('confusion matrix:\\n',cm)\n",
    "\n",
    "#calculating accuracy\n",
    "rfa = accuracy_score(y_test,Rf_pred)\n",
    "print('accuracy score = ',accuracy_score(y_test,Rf_pred))"
   ]
  },
  {
   "cell_type": "code",
   "execution_count": 566,
   "metadata": {},
   "outputs": [
    {
     "name": "stdout",
     "output_type": "stream",
     "text": [
      "              precision    recall  f1-score   support\n",
      "\n",
      "           0       0.83      1.00      0.91      3903\n",
      "           1       0.30      0.00      0.01       806\n",
      "\n",
      "    accuracy                           0.83      4709\n",
      "   macro avg       0.56      0.50      0.46      4709\n",
      "weighted avg       0.74      0.83      0.75      4709\n",
      "\n"
     ]
    }
   ],
   "source": [
    "#Classification report\n",
    "print(classification_report(y_test, Rf_pred))"
   ]
  },
  {
   "cell_type": "markdown",
   "metadata": {},
   "source": [
    "# Gradient Boost Classifier"
   ]
  },
  {
   "cell_type": "code",
   "execution_count": 546,
   "metadata": {},
   "outputs": [],
   "source": [
    "from sklearn.ensemble import AdaBoostClassifier\n",
    "from sklearn.ensemble import GradientBoostingClassifier\n",
    "\n"
   ]
  },
  {
   "cell_type": "code",
   "execution_count": 547,
   "metadata": {},
   "outputs": [
    {
     "name": "stdout",
     "output_type": "stream",
     "text": [
      "confusion matrix:\n",
      " [[3899    4]\n",
      " [ 804    2]]\n",
      "accuracy score =  0.82841367593969\n"
     ]
    }
   ],
   "source": [
    "md = GradientBoostingClassifier(n_estimators = 1000, learning_rate = 0.01, max_depth = 16, subsample = 0.5)\n",
    "md.fit(X_train, y_train)\n",
    "\n",
    "Boost_pred= md.predict(X_test)\n",
    "\n",
    "conf = confusion_matrix(y_test,Boost_pred)\n",
    "print('confusion matrix:\\n',conf)\n",
    "\n",
    "\n",
    "gba = accuracy_score(y_test,Boost_pred)\n",
    "print('accuracy score = ',accuracy_score(y_test,Boost_pred))"
   ]
  },
  {
   "cell_type": "code",
   "execution_count": 567,
   "metadata": {},
   "outputs": [
    {
     "name": "stdout",
     "output_type": "stream",
     "text": [
      "              precision    recall  f1-score   support\n",
      "\n",
      "           0       0.83      1.00      0.91      3903\n",
      "           1       0.33      0.00      0.00       806\n",
      "\n",
      "    accuracy                           0.83      4709\n",
      "   macro avg       0.58      0.50      0.46      4709\n",
      "weighted avg       0.74      0.83      0.75      4709\n",
      "\n"
     ]
    }
   ],
   "source": [
    "#Classification report\n",
    "print(classification_report(y_test, Boost_pred))"
   ]
  },
  {
   "cell_type": "markdown",
   "metadata": {},
   "source": [
    "## comparing accuracies"
   ]
  },
  {
   "cell_type": "code",
   "execution_count": 548,
   "metadata": {},
   "outputs": [
    {
     "data": {
      "text/plain": [
       "<BarContainer object of 4 artists>"
      ]
     },
     "execution_count": 548,
     "metadata": {},
     "output_type": "execute_result"
    },
    {
     "data": {
      "image/png": "[encoded data removed]",
      "text/plain": [
       "<Figure size 720x504 with 1 Axes>"
      ]
     },
     "metadata": {
      "needs_background": "light"
     },
     "output_type": "display_data"
    }
   ],
   "source": [
    "\n",
    "plt.figure(figsize= (10,7))\n",
    "ac = [lra, dta, rfa, gba]\n",
    "name = ['Logistic Regression','Decision Tree', 'Random Forest', 'Gradient Boost']\n",
    "plt.bar(name, ac)"
   ]
  },
  {
   "cell_type": "markdown",
   "metadata": {},
   "source": [
    "# Predicting for November 2018"
   ]
  },
  {
   "cell_type": "code",
   "execution_count": 553,
   "metadata": {},
   "outputs": [],
   "source": [
    "prod_data= df8[(df8[\"sequence\"] == 0) & (df8[\"month_of_acquisition\"] == 11)]"
   ]
  },
  {
   "cell_type": "code",
   "execution_count": 554,
   "metadata": {},
   "outputs": [
    {
     "name": "stdout",
     "output_type": "stream",
     "text": [
      "2        3\n",
      "9        0\n",
      "29       0\n",
      "124      1\n",
      "158      2\n",
      "        ..\n",
      "30727    1\n",
      "30854    0\n",
      "30858    4\n",
      "30859    2\n",
      "30915    4\n",
      "Length: 1015, dtype: int64\n"
     ]
    },
    {
     "name": "stderr",
     "output_type": "stream",
     "text": [
      "C:\\Users\\VISHAL\\Anaconda3\\lib\\site-packages\\ipykernel_launcher.py:3: SettingWithCopyWarning: \n",
      "A value is trying to be set on a copy of a slice from a DataFrame.\n",
      "Try using .loc[row_indexer,col_indexer] = value instead\n",
      "\n",
      "See the caveats in the documentation: http://pandas.pydata.org/pandas-docs/stable/user_guide/indexing.html#returning-a-view-versus-a-copy\n",
      "  This is separate from the ipykernel package so we can avoid doing imports until\n"
     ]
    }
   ],
   "source": [
    "lst_gap1 = (prod_data[\"Date_of_Service_Requested\"] - prod_data[\"Date_of_Booking\"]).dt.days\n",
    "print(lst_gap1)\n",
    "prod_data['Gap_Booking_Service'] = lst_gap1\n"
   ]
  },
  {
   "cell_type": "code",
   "execution_count": 555,
   "metadata": {},
   "outputs": [
    {
     "data": {
      "text/html": [
       "<div>\n",
       "<style scoped>\n",
       "    .dataframe tbody tr th:only-of-type {\n",
       "        vertical-align: middle;\n",
       "    }\n",
       "\n",
       "    .dataframe tbody tr th {\n",
       "        vertical-align: top;\n",
       "    }\n",
       "\n",
       "    .dataframe thead th {\n",
       "        text-align: right;\n",
       "    }\n",
       "</style>\n",
       "<table border=\"1\" class=\"dataframe\">\n",
       "  <thead>\n",
       "    <tr style=\"text-align: right;\">\n",
       "      <th></th>\n",
       "      <th>B</th>\n",
       "      <th>C</th>\n",
       "      <th>D</th>\n",
       "    </tr>\n",
       "  </thead>\n",
       "  <tbody>\n",
       "    <tr>\n",
       "      <td>2</td>\n",
       "      <td>0</td>\n",
       "      <td>1</td>\n",
       "      <td>0</td>\n",
       "    </tr>\n",
       "    <tr>\n",
       "      <td>9</td>\n",
       "      <td>0</td>\n",
       "      <td>1</td>\n",
       "      <td>0</td>\n",
       "    </tr>\n",
       "    <tr>\n",
       "      <td>29</td>\n",
       "      <td>1</td>\n",
       "      <td>0</td>\n",
       "      <td>0</td>\n",
       "    </tr>\n",
       "    <tr>\n",
       "      <td>124</td>\n",
       "      <td>0</td>\n",
       "      <td>1</td>\n",
       "      <td>0</td>\n",
       "    </tr>\n",
       "    <tr>\n",
       "      <td>158</td>\n",
       "      <td>0</td>\n",
       "      <td>0</td>\n",
       "      <td>1</td>\n",
       "    </tr>\n",
       "  </tbody>\n",
       "</table>\n",
       "</div>"
      ],
      "text/plain": [
       "     B  C  D\n",
       "2    0  1  0\n",
       "9    0  1  0\n",
       "29   1  0  0\n",
       "124  0  1  0\n",
       "158  0  0  1"
      ]
     },
     "execution_count": 555,
     "metadata": {},
     "output_type": "execute_result"
    }
   ],
   "source": [
    "source1= pd.get_dummies(prod_data[\"Source\"], drop_first= True)\n",
    "source1.head(5)"
   ]
  },
  {
   "cell_type": "code",
   "execution_count": 556,
   "metadata": {},
   "outputs": [],
   "source": [
    "prod_data2= pd.concat([prod_data, source1], axis=1)\n",
    "prod_data.drop([\"check_90_repeat\"], axis=1, inplace=True)"
   ]
  },
  {
   "cell_type": "code",
   "execution_count": 557,
   "metadata": {},
   "outputs": [],
   "source": [
    "prod_data2.drop([\"Profile_ID\",\"check_90_repeat\", \"sequence\", \"days_since_start\", \"Transaction_ID\", \"Date_of_Booking\", \"Date_of_Service_Requested\", \"Source\", \"month_of_Booking\", \"Cust_acquired_Date\", \"month_of_acquisition\"], axis=1, inplace= True)"
   ]
  },
  {
   "cell_type": "code",
   "execution_count": 558,
   "metadata": {},
   "outputs": [
    {
     "data": {
      "text/html": [
       "<div>\n",
       "<style scoped>\n",
       "    .dataframe tbody tr th:only-of-type {\n",
       "        vertical-align: middle;\n",
       "    }\n",
       "\n",
       "    .dataframe tbody tr th {\n",
       "        vertical-align: top;\n",
       "    }\n",
       "\n",
       "    .dataframe thead th {\n",
       "        text-align: right;\n",
       "    }\n",
       "</style>\n",
       "<table border=\"1\" class=\"dataframe\">\n",
       "  <thead>\n",
       "    <tr style=\"text-align: right;\">\n",
       "      <th></th>\n",
       "      <th>Slot of Booking (Hour of the Day)</th>\n",
       "      <th>Gap_Booking_Service</th>\n",
       "      <th>B</th>\n",
       "      <th>C</th>\n",
       "      <th>D</th>\n",
       "    </tr>\n",
       "  </thead>\n",
       "  <tbody>\n",
       "    <tr>\n",
       "      <td>2</td>\n",
       "      <td>11</td>\n",
       "      <td>3</td>\n",
       "      <td>0</td>\n",
       "      <td>1</td>\n",
       "      <td>0</td>\n",
       "    </tr>\n",
       "    <tr>\n",
       "      <td>9</td>\n",
       "      <td>10</td>\n",
       "      <td>0</td>\n",
       "      <td>0</td>\n",
       "      <td>1</td>\n",
       "      <td>0</td>\n",
       "    </tr>\n",
       "    <tr>\n",
       "      <td>29</td>\n",
       "      <td>8</td>\n",
       "      <td>0</td>\n",
       "      <td>1</td>\n",
       "      <td>0</td>\n",
       "      <td>0</td>\n",
       "    </tr>\n",
       "    <tr>\n",
       "      <td>124</td>\n",
       "      <td>14</td>\n",
       "      <td>1</td>\n",
       "      <td>0</td>\n",
       "      <td>1</td>\n",
       "      <td>0</td>\n",
       "    </tr>\n",
       "    <tr>\n",
       "      <td>158</td>\n",
       "      <td>6</td>\n",
       "      <td>2</td>\n",
       "      <td>0</td>\n",
       "      <td>0</td>\n",
       "      <td>1</td>\n",
       "    </tr>\n",
       "  </tbody>\n",
       "</table>\n",
       "</div>"
      ],
      "text/plain": [
       "     Slot of Booking (Hour of the Day)  Gap_Booking_Service  B  C  D\n",
       "2                                   11                    3  0  1  0\n",
       "9                                   10                    0  0  1  0\n",
       "29                                   8                    0  1  0  0\n",
       "124                                 14                    1  0  1  0\n",
       "158                                  6                    2  0  0  1"
      ]
     },
     "execution_count": 558,
     "metadata": {},
     "output_type": "execute_result"
    }
   ],
   "source": [
    "prod_data2.head()"
   ]
  },
  {
   "cell_type": "markdown",
   "metadata": {},
   "source": [
    "Predicting using Random Forest Classifier"
   ]
  },
  {
   "cell_type": "code",
   "execution_count": 559,
   "metadata": {},
   "outputs": [
    {
     "name": "stdout",
     "output_type": "stream",
     "text": [
      "[0 0 0 ... 0 0 0]\n"
     ]
    }
   ],
   "source": [
    "Rf_pred2 = rf.predict(prod_data2)\n",
    "print(Rf_pred2)"
   ]
  },
  {
   "cell_type": "code",
   "execution_count": 560,
   "metadata": {},
   "outputs": [
    {
     "name": "stderr",
     "output_type": "stream",
     "text": [
      "C:\\Users\\VISHAL\\Anaconda3\\lib\\site-packages\\ipykernel_launcher.py:1: SettingWithCopyWarning: \n",
      "A value is trying to be set on a copy of a slice from a DataFrame.\n",
      "Try using .loc[row_indexer,col_indexer] = value instead\n",
      "\n",
      "See the caveats in the documentation: http://pandas.pydata.org/pandas-docs/stable/user_guide/indexing.html#returning-a-view-versus-a-copy\n",
      "  \"\"\"Entry point for launching an IPython kernel.\n"
     ]
    },
    {
     "data": {
      "text/html": [
       "<div>\n",
       "<style scoped>\n",
       "    .dataframe tbody tr th:only-of-type {\n",
       "        vertical-align: middle;\n",
       "    }\n",
       "\n",
       "    .dataframe tbody tr th {\n",
       "        vertical-align: top;\n",
       "    }\n",
       "\n",
       "    .dataframe thead th {\n",
       "        text-align: right;\n",
       "    }\n",
       "</style>\n",
       "<table border=\"1\" class=\"dataframe\">\n",
       "  <thead>\n",
       "    <tr style=\"text-align: right;\">\n",
       "      <th></th>\n",
       "      <th>Profile_ID</th>\n",
       "      <th>Slot of Booking (Hour of the Day)</th>\n",
       "      <th>sequence</th>\n",
       "      <th>month_of_Booking</th>\n",
       "      <th>month_of_acquisition</th>\n",
       "      <th>days_since_start</th>\n",
       "      <th>Gap_Booking_Service</th>\n",
       "      <th>Prediction_output</th>\n",
       "    </tr>\n",
       "  </thead>\n",
       "  <tbody>\n",
       "    <tr>\n",
       "      <td>count</td>\n",
       "      <td>1015.000000</td>\n",
       "      <td>1015.000000</td>\n",
       "      <td>1015.0</td>\n",
       "      <td>1015.0</td>\n",
       "      <td>1015.0</td>\n",
       "      <td>1015.0</td>\n",
       "      <td>1015.000000</td>\n",
       "      <td>1015.000000</td>\n",
       "    </tr>\n",
       "    <tr>\n",
       "      <td>mean</td>\n",
       "      <td>8513.167488</td>\n",
       "      <td>13.175369</td>\n",
       "      <td>0.0</td>\n",
       "      <td>11.0</td>\n",
       "      <td>11.0</td>\n",
       "      <td>0.0</td>\n",
       "      <td>2.428571</td>\n",
       "      <td>0.002956</td>\n",
       "    </tr>\n",
       "    <tr>\n",
       "      <td>std</td>\n",
       "      <td>4817.983252</td>\n",
       "      <td>3.112738</td>\n",
       "      <td>0.0</td>\n",
       "      <td>0.0</td>\n",
       "      <td>0.0</td>\n",
       "      <td>0.0</td>\n",
       "      <td>1.706402</td>\n",
       "      <td>0.054312</td>\n",
       "    </tr>\n",
       "    <tr>\n",
       "      <td>min</td>\n",
       "      <td>2.000000</td>\n",
       "      <td>6.000000</td>\n",
       "      <td>0.0</td>\n",
       "      <td>11.0</td>\n",
       "      <td>11.0</td>\n",
       "      <td>0.0</td>\n",
       "      <td>0.000000</td>\n",
       "      <td>0.000000</td>\n",
       "    </tr>\n",
       "    <tr>\n",
       "      <td>25%</td>\n",
       "      <td>4651.500000</td>\n",
       "      <td>12.000000</td>\n",
       "      <td>0.0</td>\n",
       "      <td>11.0</td>\n",
       "      <td>11.0</td>\n",
       "      <td>0.0</td>\n",
       "      <td>1.000000</td>\n",
       "      <td>0.000000</td>\n",
       "    </tr>\n",
       "    <tr>\n",
       "      <td>50%</td>\n",
       "      <td>8548.000000</td>\n",
       "      <td>14.000000</td>\n",
       "      <td>0.0</td>\n",
       "      <td>11.0</td>\n",
       "      <td>11.0</td>\n",
       "      <td>0.0</td>\n",
       "      <td>2.000000</td>\n",
       "      <td>0.000000</td>\n",
       "    </tr>\n",
       "    <tr>\n",
       "      <td>75%</td>\n",
       "      <td>12628.000000</td>\n",
       "      <td>14.000000</td>\n",
       "      <td>0.0</td>\n",
       "      <td>11.0</td>\n",
       "      <td>11.0</td>\n",
       "      <td>0.0</td>\n",
       "      <td>4.000000</td>\n",
       "      <td>0.000000</td>\n",
       "    </tr>\n",
       "    <tr>\n",
       "      <td>max</td>\n",
       "      <td>16694.000000</td>\n",
       "      <td>19.000000</td>\n",
       "      <td>0.0</td>\n",
       "      <td>11.0</td>\n",
       "      <td>11.0</td>\n",
       "      <td>0.0</td>\n",
       "      <td>5.000000</td>\n",
       "      <td>1.000000</td>\n",
       "    </tr>\n",
       "  </tbody>\n",
       "</table>\n",
       "</div>"
      ],
      "text/plain": [
       "         Profile_ID  Slot of Booking (Hour of the Day)  sequence  \\\n",
       "count   1015.000000                        1015.000000    1015.0   \n",
       "mean    8513.167488                          13.175369       0.0   \n",
       "std     4817.983252                           3.112738       0.0   \n",
       "min        2.000000                           6.000000       0.0   \n",
       "25%     4651.500000                          12.000000       0.0   \n",
       "50%     8548.000000                          14.000000       0.0   \n",
       "75%    12628.000000                          14.000000       0.0   \n",
       "max    16694.000000                          19.000000       0.0   \n",
       "\n",
       "       month_of_Booking  month_of_acquisition  days_since_start  \\\n",
       "count            1015.0                1015.0            1015.0   \n",
       "mean               11.0                  11.0               0.0   \n",
       "std                 0.0                   0.0               0.0   \n",
       "min                11.0                  11.0               0.0   \n",
       "25%                11.0                  11.0               0.0   \n",
       "50%                11.0                  11.0               0.0   \n",
       "75%                11.0                  11.0               0.0   \n",
       "max                11.0                  11.0               0.0   \n",
       "\n",
       "       Gap_Booking_Service  Prediction_output  \n",
       "count          1015.000000        1015.000000  \n",
       "mean              2.428571           0.002956  \n",
       "std               1.706402           0.054312  \n",
       "min               0.000000           0.000000  \n",
       "25%               1.000000           0.000000  \n",
       "50%               2.000000           0.000000  \n",
       "75%               4.000000           0.000000  \n",
       "max               5.000000           1.000000  "
      ]
     },
     "execution_count": 560,
     "metadata": {},
     "output_type": "execute_result"
    }
   ],
   "source": [
    "prod_data['Prediction_output'] = Rf_pred2\n",
    "\n",
    "prod_data.describe()"
   ]
  },
  {
   "cell_type": "markdown",
   "metadata": {},
   "source": [
    "# Question 5"
   ]
  },
  {
   "cell_type": "markdown",
   "metadata": {},
   "source": [
    "Filtered data with Profile_ID's having 90 days repeat"
   ]
  },
  {
   "cell_type": "code",
   "execution_count": 561,
   "metadata": {},
   "outputs": [
    {
     "data": {
      "text/html": [
       "<div>\n",
       "<style scoped>\n",
       "    .dataframe tbody tr th:only-of-type {\n",
       "        vertical-align: middle;\n",
       "    }\n",
       "\n",
       "    .dataframe tbody tr th {\n",
       "        vertical-align: top;\n",
       "    }\n",
       "\n",
       "    .dataframe thead th {\n",
       "        text-align: right;\n",
       "    }\n",
       "</style>\n",
       "<table border=\"1\" class=\"dataframe\">\n",
       "  <thead>\n",
       "    <tr style=\"text-align: right;\">\n",
       "      <th></th>\n",
       "      <th>Profile_ID</th>\n",
       "      <th>Slot of Booking (Hour of the Day)</th>\n",
       "      <th>sequence</th>\n",
       "      <th>month_of_Booking</th>\n",
       "      <th>month_of_acquisition</th>\n",
       "      <th>days_since_start</th>\n",
       "    </tr>\n",
       "  </thead>\n",
       "  <tbody>\n",
       "    <tr>\n",
       "      <td>count</td>\n",
       "      <td>21149.000000</td>\n",
       "      <td>21149.000000</td>\n",
       "      <td>21149.000000</td>\n",
       "      <td>21149.000000</td>\n",
       "      <td>21149.000000</td>\n",
       "      <td>21149.000000</td>\n",
       "    </tr>\n",
       "    <tr>\n",
       "      <td>mean</td>\n",
       "      <td>8332.296468</td>\n",
       "      <td>13.058253</td>\n",
       "      <td>0.396236</td>\n",
       "      <td>5.991300</td>\n",
       "      <td>6.499267</td>\n",
       "      <td>9.328810</td>\n",
       "    </tr>\n",
       "    <tr>\n",
       "      <td>std</td>\n",
       "      <td>4820.383440</td>\n",
       "      <td>3.144104</td>\n",
       "      <td>1.076327</td>\n",
       "      <td>3.757462</td>\n",
       "      <td>3.947147</td>\n",
       "      <td>21.780637</td>\n",
       "    </tr>\n",
       "    <tr>\n",
       "      <td>min</td>\n",
       "      <td>1.000000</td>\n",
       "      <td>6.000000</td>\n",
       "      <td>0.000000</td>\n",
       "      <td>1.000000</td>\n",
       "      <td>1.000000</td>\n",
       "      <td>0.000000</td>\n",
       "    </tr>\n",
       "    <tr>\n",
       "      <td>25%</td>\n",
       "      <td>4157.000000</td>\n",
       "      <td>12.000000</td>\n",
       "      <td>0.000000</td>\n",
       "      <td>3.000000</td>\n",
       "      <td>3.000000</td>\n",
       "      <td>0.000000</td>\n",
       "    </tr>\n",
       "    <tr>\n",
       "      <td>50%</td>\n",
       "      <td>8362.000000</td>\n",
       "      <td>14.000000</td>\n",
       "      <td>0.000000</td>\n",
       "      <td>5.000000</td>\n",
       "      <td>6.000000</td>\n",
       "      <td>0.000000</td>\n",
       "    </tr>\n",
       "    <tr>\n",
       "      <td>75%</td>\n",
       "      <td>12469.000000</td>\n",
       "      <td>14.000000</td>\n",
       "      <td>0.000000</td>\n",
       "      <td>9.000000</td>\n",
       "      <td>10.000000</td>\n",
       "      <td>0.000000</td>\n",
       "    </tr>\n",
       "    <tr>\n",
       "      <td>max</td>\n",
       "      <td>16711.000000</td>\n",
       "      <td>19.000000</td>\n",
       "      <td>15.000000</td>\n",
       "      <td>12.000000</td>\n",
       "      <td>12.000000</td>\n",
       "      <td>90.000000</td>\n",
       "    </tr>\n",
       "  </tbody>\n",
       "</table>\n",
       "</div>"
      ],
      "text/plain": [
       "         Profile_ID  Slot of Booking (Hour of the Day)      sequence  \\\n",
       "count  21149.000000                       21149.000000  21149.000000   \n",
       "mean    8332.296468                          13.058253      0.396236   \n",
       "std     4820.383440                           3.144104      1.076327   \n",
       "min        1.000000                           6.000000      0.000000   \n",
       "25%     4157.000000                          12.000000      0.000000   \n",
       "50%     8362.000000                          14.000000      0.000000   \n",
       "75%    12469.000000                          14.000000      0.000000   \n",
       "max    16711.000000                          19.000000     15.000000   \n",
       "\n",
       "       month_of_Booking  month_of_acquisition  days_since_start  \n",
       "count      21149.000000          21149.000000      21149.000000  \n",
       "mean           5.991300              6.499267          9.328810  \n",
       "std            3.757462              3.947147         21.780637  \n",
       "min            1.000000              1.000000          0.000000  \n",
       "25%            3.000000              3.000000          0.000000  \n",
       "50%            5.000000              6.000000          0.000000  \n",
       "75%            9.000000             10.000000          0.000000  \n",
       "max           12.000000             12.000000         90.000000  "
      ]
     },
     "execution_count": 561,
     "metadata": {},
     "output_type": "execute_result"
    }
   ],
   "source": [
    "newdf= df[(df[\"days_since_start\"] <= 90)]\n",
    "newdf.sort_values(by=['Profile_ID'])\n",
    "newdf.describe()"
   ]
  },
  {
   "cell_type": "markdown",
   "metadata": {},
   "source": [
    "Took count of Profile ID's to store the data of number of times they repeated"
   ]
  },
  {
   "cell_type": "code",
   "execution_count": 562,
   "metadata": {},
   "outputs": [
    {
     "data": {
      "text/html": [
       "<div>\n",
       "<style scoped>\n",
       "    .dataframe tbody tr th:only-of-type {\n",
       "        vertical-align: middle;\n",
       "    }\n",
       "\n",
       "    .dataframe tbody tr th {\n",
       "        vertical-align: top;\n",
       "    }\n",
       "\n",
       "    .dataframe thead th {\n",
       "        text-align: right;\n",
       "    }\n",
       "</style>\n",
       "<table border=\"1\" class=\"dataframe\">\n",
       "  <thead>\n",
       "    <tr style=\"text-align: right;\">\n",
       "      <th></th>\n",
       "      <th>Profile_ID</th>\n",
       "      <th>counts</th>\n",
       "    </tr>\n",
       "  </thead>\n",
       "  <tbody>\n",
       "    <tr>\n",
       "      <td>0</td>\n",
       "      <td>1</td>\n",
       "      <td>1</td>\n",
       "    </tr>\n",
       "    <tr>\n",
       "      <td>1</td>\n",
       "      <td>2</td>\n",
       "      <td>1</td>\n",
       "    </tr>\n",
       "    <tr>\n",
       "      <td>2</td>\n",
       "      <td>3</td>\n",
       "      <td>1</td>\n",
       "    </tr>\n",
       "    <tr>\n",
       "      <td>3</td>\n",
       "      <td>4</td>\n",
       "      <td>1</td>\n",
       "    </tr>\n",
       "    <tr>\n",
       "      <td>4</td>\n",
       "      <td>5</td>\n",
       "      <td>1</td>\n",
       "    </tr>\n",
       "  </tbody>\n",
       "</table>\n",
       "</div>"
      ],
      "text/plain": [
       "   Profile_ID  counts\n",
       "0           1       1\n",
       "1           2       1\n",
       "2           3       1\n",
       "3           4       1\n",
       "4           5       1"
      ]
     },
     "execution_count": 562,
     "metadata": {},
     "output_type": "execute_result"
    }
   ],
   "source": [
    "newdf2= newdf.groupby(['Profile_ID']).size().reset_index(name='counts')\n",
    "newdf2.head()"
   ]
  },
  {
   "cell_type": "code",
   "execution_count": 563,
   "metadata": {},
   "outputs": [
    {
     "data": {
      "text/html": [
       "<div>\n",
       "<style scoped>\n",
       "    .dataframe tbody tr th:only-of-type {\n",
       "        vertical-align: middle;\n",
       "    }\n",
       "\n",
       "    .dataframe tbody tr th {\n",
       "        vertical-align: top;\n",
       "    }\n",
       "\n",
       "    .dataframe thead th {\n",
       "        text-align: right;\n",
       "    }\n",
       "</style>\n",
       "<table border=\"1\" class=\"dataframe\">\n",
       "  <thead>\n",
       "    <tr style=\"text-align: right;\">\n",
       "      <th></th>\n",
       "      <th>Profile_ID</th>\n",
       "      <th>counts</th>\n",
       "    </tr>\n",
       "  </thead>\n",
       "  <tbody>\n",
       "    <tr>\n",
       "      <td>7</td>\n",
       "      <td>8</td>\n",
       "      <td>2</td>\n",
       "    </tr>\n",
       "    <tr>\n",
       "      <td>13</td>\n",
       "      <td>14</td>\n",
       "      <td>5</td>\n",
       "    </tr>\n",
       "    <tr>\n",
       "      <td>21</td>\n",
       "      <td>22</td>\n",
       "      <td>2</td>\n",
       "    </tr>\n",
       "    <tr>\n",
       "      <td>35</td>\n",
       "      <td>36</td>\n",
       "      <td>2</td>\n",
       "    </tr>\n",
       "    <tr>\n",
       "      <td>42</td>\n",
       "      <td>43</td>\n",
       "      <td>2</td>\n",
       "    </tr>\n",
       "    <tr>\n",
       "      <td>46</td>\n",
       "      <td>47</td>\n",
       "      <td>5</td>\n",
       "    </tr>\n",
       "    <tr>\n",
       "      <td>47</td>\n",
       "      <td>48</td>\n",
       "      <td>2</td>\n",
       "    </tr>\n",
       "    <tr>\n",
       "      <td>51</td>\n",
       "      <td>52</td>\n",
       "      <td>3</td>\n",
       "    </tr>\n",
       "    <tr>\n",
       "      <td>54</td>\n",
       "      <td>55</td>\n",
       "      <td>2</td>\n",
       "    </tr>\n",
       "    <tr>\n",
       "      <td>65</td>\n",
       "      <td>66</td>\n",
       "      <td>2</td>\n",
       "    </tr>\n",
       "    <tr>\n",
       "      <td>78</td>\n",
       "      <td>79</td>\n",
       "      <td>2</td>\n",
       "    </tr>\n",
       "    <tr>\n",
       "      <td>92</td>\n",
       "      <td>93</td>\n",
       "      <td>2</td>\n",
       "    </tr>\n",
       "    <tr>\n",
       "      <td>94</td>\n",
       "      <td>95</td>\n",
       "      <td>2</td>\n",
       "    </tr>\n",
       "    <tr>\n",
       "      <td>97</td>\n",
       "      <td>98</td>\n",
       "      <td>2</td>\n",
       "    </tr>\n",
       "    <tr>\n",
       "      <td>100</td>\n",
       "      <td>101</td>\n",
       "      <td>4</td>\n",
       "    </tr>\n",
       "    <tr>\n",
       "      <td>107</td>\n",
       "      <td>108</td>\n",
       "      <td>3</td>\n",
       "    </tr>\n",
       "    <tr>\n",
       "      <td>122</td>\n",
       "      <td>123</td>\n",
       "      <td>2</td>\n",
       "    </tr>\n",
       "    <tr>\n",
       "      <td>123</td>\n",
       "      <td>124</td>\n",
       "      <td>2</td>\n",
       "    </tr>\n",
       "    <tr>\n",
       "      <td>124</td>\n",
       "      <td>125</td>\n",
       "      <td>3</td>\n",
       "    </tr>\n",
       "    <tr>\n",
       "      <td>125</td>\n",
       "      <td>126</td>\n",
       "      <td>2</td>\n",
       "    </tr>\n",
       "  </tbody>\n",
       "</table>\n",
       "</div>"
      ],
      "text/plain": [
       "     Profile_ID  counts\n",
       "7             8       2\n",
       "13           14       5\n",
       "21           22       2\n",
       "35           36       2\n",
       "42           43       2\n",
       "46           47       5\n",
       "47           48       2\n",
       "51           52       3\n",
       "54           55       2\n",
       "65           66       2\n",
       "78           79       2\n",
       "92           93       2\n",
       "94           95       2\n",
       "97           98       2\n",
       "100         101       4\n",
       "107         108       3\n",
       "122         123       2\n",
       "123         124       2\n",
       "124         125       3\n",
       "125         126       2"
      ]
     },
     "execution_count": 563,
     "metadata": {},
     "output_type": "execute_result"
    }
   ],
   "source": [
    "newdf4= newdf2[(newdf2[\"counts\"]>1)]\n",
    "newdf4.head(20)"
   ]
  },
  {
   "cell_type": "code",
   "execution_count": 564,
   "metadata": {},
   "outputs": [
    {
     "data": {
      "image/png": "[encoded data removed]",
      "text/plain": [
       "<Figure size 1152x432 with 1 Axes>"
      ]
     },
     "metadata": {
      "needs_background": "light"
     },
     "output_type": "display_data"
    }
   ],
   "source": [
    "plt.figure(1, figsize=(16, 6))\n",
    "sns.distplot(newdf4['counts'], bins=20)\n",
    "plt.ylabel(\"Number of customers\")   \n",
    "plt.title(\"Distribution Plot of frequency of users of 90 days repeat\")\n",
    "plt.show();"
   ]
  }
 ],
 "metadata": {
  "kernelspec": {
   "display_name": "Python 3",
   "language": "python",
   "name": "python3"
  },
  "language_info": {
   "codemirror_mode": {
    "name": "ipython",
    "version": 3
   },
   "file_extension": ".py",
   "mimetype": "text/x-python",
   "name": "python",
   "nbconvert_exporter": "python",
   "pygments_lexer": "ipython3",
   "version": "3.7.4"
  }
 },
 "nbformat": 4,
 "nbformat_minor": 2
}
